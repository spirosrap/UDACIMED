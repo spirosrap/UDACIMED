{
 "cells": [
  {
   "attachments": {},
   "cell_type": "markdown",
   "metadata": {},
   "source": [
    "# UdaciMed | Notebook 1: Baseline Analysis\n",
    "\n",
    "Welcome to UdaciMed! You are a Machine Learning Engineer tasked with optimizing our chest X-ray pneumonia detection model for production deployment.\n",
    "\n",
    "- **The challenge**: Before our new model can be approved for production, we must verify that it meets our strict performance SLAs. Deploying an unoptimized model could lead to high operational costs and poor performance across our diverse hardware fleet—from shared T4 GPU cloud instances to portable clinic devices.\n",
    "\n",
    "- **Your mission**: Optimize the model to pass _UdaciMed's Universal Performance Standard_, a strict production service level agreement (SLA) that must be met using the universally compatible ONNX format on our standardized target device.\n",
    "\n",
    "### **Optimization goals**\n",
    "\n",
    "Your goal is to ensure the production model meets these production targets on our standardized development machine:\n",
    "\n",
    "- **< 0.4 GFLOPs per sample**: Floating Point Operations determine computational cost - reducing FLOPs is the most critical step toward broad-platform efficiency.\n",
    "- **< 100MB peak memory footprint**: Total memory consumption (parameters + activations + workspace) during inference - essential for running the model on memory-constrained edge devices and for enabling cost-effective multi-model environments in the cloud.\n",
    "- **< 3ms latency**: This ensures a real-time user experience. We will measure both *amortized latency* (average time per sample in a large batch) and *true latency* (time for a single-image inference), as both are important for different use cases.\n",
    "- **> 2000 samples/second throughput**: This specific target is for our high-performance hardware, like the reference T4 GPU. Meeting this goal proves the model is cost-effective and scalable for high-volume, server-side screening workflows.\n",
    "- **> 98% sensitivity***: This is a non-negotiable clinical safety requirement. We must ensure that a threshold percentage of all true pneumonia cases are correctly identified. All optimizations must be validated against this metric.\n",
    "\n",
    "#### **A note on our standardized target device**\n",
    "\n",
    "All performance targets in this project must be met on our official _\"standardized target device.\"_ This is an NVIDIA T4 GPU, a common and versatile datacenter GPU that represents a typical cloud deployment environment.\n",
    "\n",
    "By using a single, consistent hardware profile (NVIDIA T4 with 16GB VRAM, CUDA 12.4) for all our performance SLAs, we can:\n",
    "\n",
    "- *Ensure Reproducible Results*: Anyone on the team can validate performance and get consistent measurements.\n",
    "\n",
    "- *Create a Reliable Benchmark*: It provides a stable baseline to measure the impact of every optimization we make.\n",
    "\n",
    "If a model can meet our strict, universal performance standards on this reference hardware, we are confident it will perform well across our entire fleet of production devices.\n",
    "\n",
    "---\n",
    "\n",
    "Through this notebook, you will build the foundation for our optimization strategy by:\n",
    "\n",
    "1.  **Establishing baseline performance** with comprehensive profiling.\n",
    "2.  **Analyzing the primary bottlenecks**, distinguishing between compute, parameter memory, and activation memory.\n",
    "3.  **Identifying optimization opportunities** in both the model architecture and the deployment configuration.\n",
    "\n",
    "**Let's set up an optimization vision for UdaciMed's next-generation diagnostic platform!**\n"
   ]
  },
  {
   "attachments": {},
   "cell_type": "markdown",
   "metadata": {},
   "source": [
    "> **_\\*Understanding medical AI requirements_**:\n",
    "> \n",
    "> In medical AI, sensitivity (recall) is often more critical than overall accuracy. Missing a pneumonia case (false negative) can be life-threatening, while a false positive \"only\" leads to additional human review. This is why we prioritize sensitivity as our safety constraint."
   ]
  },
  {
   "attachments": {},
   "cell_type": "markdown",
   "metadata": {},
   "source": [
    "## Step 1: Set up the environment\n",
    "The first step is to import all libraries and internal functionalities (from `utils`). \n",
    "\n",
    "Additionally, we set `pytorch` to use CUDA GPU if available (not only for faster execution, but also for benchmarking, as this will be our final deployment target!) and we include deterministic mode for reproducible benchmarking."
   ]
  },
  {
   "cell_type": "code",
   "execution_count": 1,
   "metadata": {
    "execution": {
     "iopub.execute_input": "2025-09-15T11:23:38.456206Z",
     "iopub.status.busy": "2025-09-15T11:23:38.455789Z",
     "iopub.status.idle": "2025-09-15T11:23:38.475545Z",
     "shell.execute_reply": "2025-09-15T11:23:38.474635Z"
    }
   },
   "outputs": [],
   "source": [
    "# Make sure that libraries are dynamically re-loaded if changed\n",
    "%load_ext autoreload\n",
    "%autoreload 2"
   ]
  },
  {
   "cell_type": "code",
   "execution_count": 2,
   "metadata": {
    "execution": {
     "iopub.execute_input": "2025-09-15T11:23:38.477982Z",
     "iopub.status.busy": "2025-09-15T11:23:38.477762Z",
     "iopub.status.idle": "2025-09-15T11:23:42.536874Z",
     "shell.execute_reply": "2025-09-15T11:23:42.535871Z"
    }
   },
   "outputs": [
    {
     "name": "stdout",
     "output_type": "stream",
     "text": [
      "Using device: cpu\n",
      "WARNING: CUDA not available - profiling will be limited\n"
     ]
    }
   ],
   "source": [
    "# Import core libraries\n",
    "import torch\n",
    "import torch.nn as nn\n",
    "import inspect\n",
    "import numpy as np\n",
    "import os\n",
    "import pickle\n",
    "from pprint import pprint\n",
    "import random\n",
    "from torchsummary import summary\n",
    "import tqdm\n",
    "import warnings\n",
    "warnings.filterwarnings('ignore')\n",
    "\n",
    "# Import project utilities\n",
    "\n",
    "# Ensure project root is on sys.path so 'utils' imports work when running from the notebooks folder\n",
    "import sys, os\n",
    "if os.path.basename(os.getcwd()) == 'notebooks' and os.path.exists('..'):\n",
    "    sys.path.append('..')\n",
    "from utils.data_loader import (\n",
    "    load_pneumoniamnist, \n",
    "    get_dataset_info, \n",
    "    explore_dataset_splits,\n",
    "    visualize_sample_images,\n",
    "    get_sample_batch\n",
    ")\n",
    "from utils.model import (\n",
    "    create_baseline_model,\n",
    "    get_model_info,\n",
    "    count_parameters_by_type,\n",
    "    train_baseline_model,\n",
    "    plot_training_history\n",
    ")\n",
    "from utils.evaluation import (\n",
    "    evaluate_with_multiple_thresholds\n",
    ")\n",
    "from utils.profiling import (\n",
    "    PerformanceProfiler,\n",
    "    get_gpu_info,\n",
    "    check_environment,\n",
    "    measure_time\n",
    ")\n",
    "from utils.visualization import (\n",
    "    plot_dataset_distribution,\n",
    "    plot_performance_profile,\n",
    "    plot_operation_breakdown,\n",
    "    plot_batch_size_comparison,\n",
    ")\n",
    "\n",
    "# Check environment and GPU capabilities\n",
    "device = torch.device(\"cuda\" if torch.cuda.is_available() else \"cpu\")\n",
    "print(f\"Using device: {device}\")\n",
    "\n",
    "if torch.cuda.is_available():\n",
    "    gpu_info = get_gpu_info()\n",
    "    print(f\"GPU: {gpu_info.get('name', 'Unknown')}\")\n",
    "    print(f\"GPU Memory: {gpu_info.get('memory_total_gb', 0):.1f} GB\")\n",
    "    print(f\"Tensor Core Support: {gpu_info.get('tensor_core_support', False)}\")\n",
    "else:\n",
    "    print(\"WARNING: CUDA not available - profiling will be limited\")"
   ]
  },
  {
   "cell_type": "code",
   "execution_count": 3,
   "metadata": {
    "execution": {
     "iopub.execute_input": "2025-09-15T11:23:42.597997Z",
     "iopub.status.busy": "2025-09-15T11:23:42.597498Z",
     "iopub.status.idle": "2025-09-15T11:23:42.658569Z",
     "shell.execute_reply": "2025-09-15T11:23:42.657606Z"
    }
   },
   "outputs": [
    {
     "name": "stdout",
     "output_type": "stream",
     "text": [
      "Deterministic mode enabled for reproducible benchmarking\n"
     ]
    }
   ],
   "source": [
    "# Set random seed for reproducibility across optimization experiments\n",
    "def set_deterministic_mode(seed=42):\n",
    "    \"\"\"\n",
    "    Enable deterministic mode for consistent benchmarking.\n",
    "    Critical for fair comparison between different techniques.\n",
    "    \"\"\"\n",
    "    random.seed(seed)\n",
    "    np.random.seed(seed)\n",
    "    torch.manual_seed(seed)\n",
    "    torch.cuda.manual_seed_all(seed)\n",
    "    torch.backends.cudnn.deterministic = True\n",
    "    torch.backends.cudnn.benchmark = False  # Disable for consistent timing\n",
    "    os.environ[\"PYTHONHASHSEED\"] = str(seed)\n",
    "\n",
    "set_deterministic_mode(42)\n",
    "print(\"Deterministic mode enabled for reproducible benchmarking\")"
   ]
  },
  {
   "attachments": {},
   "cell_type": "markdown",
   "metadata": {},
   "source": [
    "## Step 2: Load and analyze the dataset\n",
    "Now, we can get started with our baseline model set-up by loading the data and understanding its characteristics. \n",
    "\n",
    "For this project, we use the PneumoniaMNIST dataset from [MedMNIST](https://medmnist.com/). PneumoniaMNIST provides a standardized, validated dataset for pneumonia detection research. Its 64x64 resolution balances clinical detail with computational efficiency, making it ideal for optimization studies while maintaining diagnostic relevance."
   ]
  },
  {
   "cell_type": "code",
   "execution_count": 4,
   "metadata": {
    "execution": {
     "iopub.execute_input": "2025-09-15T11:23:42.664050Z",
     "iopub.status.busy": "2025-09-15T11:23:42.663623Z",
     "iopub.status.idle": "2025-09-15T11:23:42.709304Z",
     "shell.execute_reply": "2025-09-15T11:23:42.708121Z"
    }
   },
   "outputs": [
    {
     "name": "stdout",
     "output_type": "stream",
     "text": [
      "PneumoniaMNIST Dataset Information:\n",
      "   Name: PneumoniaMNIST\n",
      "   Task: Binary classification (Normal vs Pneumonia)\n",
      "   Classes: ['Normal', 'Pneumonia']\n",
      "   Num Classes: 2\n",
      "   Source: Chest X-ray Images (Pneumonia) from Kaggle\n",
      "   Original Size: Various sizes (medical imaging protocols vary)\n",
      "   Processed Sizes: [28, 64, 128, 224]\n",
      "   Medical Context: Pneumonia detection in chest X-rays for clinical decision support\n",
      "   Samples: {'train': 4708, 'val': 524, 'test': 624}\n",
      "   Total Samples: 5856\n",
      "   Clinical Significance: Early pneumonia detection critical for patient outcomes\n",
      "   Preprocessing Note: ImageNet normalization applied for transfer learning optimization\n"
     ]
    }
   ],
   "source": [
    "# Get dataset information\n",
    "dataset_info = get_dataset_info(use_binary=True)\n",
    "print(\"PneumoniaMNIST Dataset Information:\")\n",
    "for key, value in dataset_info.items():\n",
    "    print(f\"   {key.replace('_', ' ').title()}: {value}\")"
   ]
  },
  {
   "cell_type": "code",
   "execution_count": 5,
   "metadata": {
    "execution": {
     "iopub.execute_input": "2025-09-15T11:23:42.712022Z",
     "iopub.status.busy": "2025-09-15T11:23:42.711767Z",
     "iopub.status.idle": "2025-09-15T11:23:44.194135Z",
     "shell.execute_reply": "2025-09-15T11:23:44.193432Z"
    }
   },
   "outputs": [
    {
     "name": "stdout",
     "output_type": "stream",
     "text": [
      "Loading PneumoniaMNIST dataset...\n",
      "Using downloaded and verified file: /home/spiros/.medmnist/pneumoniamnist_64.npz\n"
     ]
    },
    {
     "name": "stdout",
     "output_type": "stream",
     "text": [
      "Created balanced clinical subset: 560 samples (415 pneumonia, 145 normal)\n",
      "Created balanced clinical subset: 120 samples (89 pneumonia, 31 normal)\n"
     ]
    },
    {
     "name": "stdout",
     "output_type": "stream",
     "text": [
      "Created balanced clinical subset: 120 samples (75 pneumonia, 45 normal)\n",
      "⏱️ Dataset loading took 1446.08 ms\n",
      "Dataset loaded: 64x64 images, batch_size=32\n"
     ]
    }
   ],
   "source": [
    "# Define configuration for baseline analysis\n",
    "CONFIG = {\n",
    "    'image_size': 64,  # Balanced for for memory usage and model accuracy\n",
    "    'num_classes': 2,  # Binary classification: normal vs pneumonia\n",
    "    'batch_size': 32,  # Balanced for memory usage and training stability\n",
    "    'subset_size': 800,  # Use a subset for faster execution during automated runs\n",
    "}\n",
    "\n",
    "# Load the dataset with optimized settings\n",
    "print(\"Loading PneumoniaMNIST dataset...\")\n",
    "\n",
    "with measure_time(\"Dataset loading\"):\n",
    "    train_loader = load_pneumoniamnist(\n",
    "        split=\"train\", download=True, \n",
    "        size=CONFIG['image_size'], batch_size=CONFIG['batch_size'], \n",
    "        subset_size=int(CONFIG['subset_size'] * 0.7) if CONFIG['subset_size'] is not None else None\n",
    "    )\n",
    "    \n",
    "    val_loader = load_pneumoniamnist(\n",
    "        split=\"val\", download=False, \n",
    "        size=CONFIG['image_size'], batch_size=CONFIG['batch_size'], \n",
    "        subset_size=int(CONFIG['subset_size'] * 0.15) if CONFIG['subset_size'] is not None else None\n",
    "    )\n",
    "    \n",
    "    test_loader = load_pneumoniamnist(\n",
    "        split=\"test\", download=False, \n",
    "        size=CONFIG['image_size'], batch_size=CONFIG['batch_size'], \n",
    "        subset_size=int(CONFIG['subset_size'] * 0.15) if CONFIG['subset_size'] is not None else None\n",
    "    )\n",
    "\n",
    "print(f\"Dataset loaded: {CONFIG['image_size']}x{CONFIG['image_size']} images, batch_size={CONFIG['batch_size']}\")"
   ]
  },
  {
   "cell_type": "code",
   "execution_count": 6,
   "metadata": {
    "execution": {
     "iopub.execute_input": "2025-09-15T11:23:44.196294Z",
     "iopub.status.busy": "2025-09-15T11:23:44.196062Z",
     "iopub.status.idle": "2025-09-15T11:23:44.899004Z",
     "shell.execute_reply": "2025-09-15T11:23:44.898357Z"
    }
   },
   "outputs": [
    {
     "name": "stdout",
     "output_type": "stream",
     "text": [
      "Analyzing dataset distribution...\n"
     ]
    },
    {
     "name": "stdout",
     "output_type": "stream",
     "text": [
      "\n",
      "Dataset Summary: {'train': {'total': 560, 'class_stats': {'normal': 145, 'pneumonia': 415, 'type': 'binary'}, 'normal': 145, 'pneumonia': 415, 'pneumonia_ratio': 0.7410714285714286}, 'val': {'total': 120, 'class_stats': {'normal': 31, 'pneumonia': 89, 'type': 'binary'}, 'normal': 31, 'pneumonia': 89, 'pneumonia_ratio': 0.7416666666666667}, 'test': {'total': 120, 'class_stats': {'normal': 45, 'pneumonia': 75, 'type': 'binary'}, 'normal': 45, 'pneumonia': 75, 'pneumonia_ratio': 0.625}}\n"
     ]
    },
    {
     "data": {
      "image/png": "[encoded data removed]",
      "text/plain": [
       "<Figure size 1400x600 with 2 Axes>"
      ]
     },
     "metadata": {},
     "output_type": "display_data"
    }
   ],
   "source": [
    "# Analyze dataset distribution for class imbalance considerations\n",
    "print(\"Analyzing dataset distribution...\")\n",
    "dataset_splits = explore_dataset_splits(train_loader, val_loader, test_loader)\n",
    "print(f\"\\nDataset Summary: {dataset_splits}\")\n",
    "\n",
    "# Visualize dataset distribution\n",
    "plot_dataset_distribution(dataset_splits)"
   ]
  },
  {
   "attachments": {},
   "cell_type": "markdown",
   "metadata": {},
   "source": [
    "> **_The impact of class imbalance_**\n",
    "> \n",
    "> Medical datasets often have class imbalance. This affects optimization because:\n",
    "> \n",
    "> - Models may focus compute on majority class features\n",
    "> - Batch composition affects memory usage patterns\n",
    "> - Some optimization techniques (like pruning) may disproportionately affect minority class performance"
   ]
  },
  {
   "cell_type": "code",
   "execution_count": 7,
   "metadata": {
    "execution": {
     "iopub.execute_input": "2025-09-15T11:23:44.901050Z",
     "iopub.status.busy": "2025-09-15T11:23:44.900839Z",
     "iopub.status.idle": "2025-09-15T11:23:45.256477Z",
     "shell.execute_reply": "2025-09-15T11:23:45.255241Z"
    }
   },
   "outputs": [
    {
     "name": "stdout",
     "output_type": "stream",
     "text": [
      "Sample chest X-ray images:\n"
     ]
    },
    {
     "data": {
      "image/png": "[encoded data removed]",
      "text/plain": [
       "<Figure size 1200x300 with 4 Axes>"
      ]
     },
     "metadata": {},
     "output_type": "display_data"
    },
    {
     "name": "stdout",
     "output_type": "stream",
     "text": [
      "Displayed 4 images: 2 normal, 2 pneumonia\n"
     ]
    }
   ],
   "source": [
    "# Visualize sample images to understand data characteristics\n",
    "print(\"Sample chest X-ray images:\")\n",
    "visualize_sample_images(train_loader, num_samples=4)"
   ]
  },
  {
   "attachments": {},
   "cell_type": "markdown",
   "metadata": {},
   "source": [
    "## Step 3: Create and analyze the baseline model\n",
    "We will use [ResNet-18](https://docs.pytorch.org/vision/main/models/generated/torchvision.models.resnet18.html) as our baseline - a popular choice for medical imaging that balances accuracy and efficiency.\n",
    "\n",
    "The original model structure is architected for ImageNet (1000 classes), so we modify the model with a custom head to support our new classification task."
   ]
  },
  {
   "cell_type": "code",
   "execution_count": 8,
   "metadata": {
    "execution": {
     "iopub.execute_input": "2025-09-15T11:23:45.260482Z",
     "iopub.status.busy": "2025-09-15T11:23:45.259969Z",
     "iopub.status.idle": "2025-09-15T11:23:45.486190Z",
     "shell.execute_reply": "2025-09-15T11:23:45.485438Z"
    }
   },
   "outputs": [
    {
     "name": "stdout",
     "output_type": "stream",
     "text": [
      "Creating ResNet-18 baseline model...\n"
     ]
    },
    {
     "name": "stdout",
     "output_type": "stream",
     "text": [
      "Baseline model created and deployed to cpu\n",
      "   Architecture: ResNet-18-Adaptive\n"
     ]
    }
   ],
   "source": [
    "# Create the baseline ResNet-18 model\n",
    "print(\"Creating ResNet-18 baseline model...\")\n",
    "\n",
    "baseline_model = create_baseline_model(\n",
    "    num_classes=CONFIG['num_classes'], \n",
    "    input_size=CONFIG['image_size'], \n",
    "    pretrained=False  # Training from scratch for fair optimization comparison\n",
    ")\n",
    "baseline_model = baseline_model.to(device)\n",
    "\n",
    "print(f\"Baseline model created and deployed to {device}\")\n",
    "print(f\"   Architecture: {baseline_model.architecture_name}\")"
   ]
  },
  {
   "cell_type": "code",
   "execution_count": 9,
   "metadata": {
    "execution": {
     "iopub.execute_input": "2025-09-15T11:23:45.488477Z",
     "iopub.status.busy": "2025-09-15T11:23:45.488246Z",
     "iopub.status.idle": "2025-09-15T11:23:45.522257Z",
     "shell.execute_reply": "2025-09-15T11:23:45.521590Z"
    }
   },
   "outputs": [
    {
     "name": "stdout",
     "output_type": "stream",
     "text": [
      "\n",
      "Model Information:\n",
      "   Architecture: ResNet-18-Adaptive\n",
      "   Total Parameters: 11,177,538\n",
      "   Model Size: 42.6 MB\n",
      "   Input Size: 64x64\n",
      "\n",
      "Layer Composition:\n",
      "   Convolution Layers: 20 (11,166,912 params)\n",
      "   Linear Layers: 1 (1,026 params)\n",
      "   Normalization Layers: 20\n",
      "   Activation Types: ReLU\n",
      "\n",
      "Parameter Distribution:\n",
      "   Convolution: 99.99%\n",
      "   Linear: 0.01%\n"
     ]
    }
   ],
   "source": [
    "# Get model information\n",
    "model_info = get_model_info(baseline_model)\n",
    "\n",
    "print(f\"\\nModel Information:\")\n",
    "print(f\"   Architecture: {model_info['architecture']}\")\n",
    "print(f\"   Total Parameters: {model_info['total_parameters']:,}\")\n",
    "print(f\"   Model Size: {model_info['model_size_mb']:.1f} MB\")\n",
    "print(f\"   Input Size: {model_info['input_size']}x{model_info['input_size']}\")\n",
    "\n",
    "# Analyze layer composition \n",
    "layer_breakdown = model_info['layer_breakdown']\n",
    "print(f\"\\nLayer Composition:\")\n",
    "print(f\"   Convolution Layers: {layer_breakdown['conv_layers']['count']} ({layer_breakdown['conv_layers']['total_params']:,} params)\")\n",
    "print(f\"   Linear Layers: {layer_breakdown['linear_layers']['count']} ({layer_breakdown['linear_layers']['total_params']:,} params)\")\n",
    "print(f\"   Normalization Layers: {layer_breakdown['norm_layers']['count']}\")\n",
    "print(f\"   Activation Types: {', '.join(layer_breakdown['activation_layers']['types'])}\")\n",
    "\n",
    "# Get parameter distribution\n",
    "if 'parameter_distribution' in layer_breakdown:\n",
    "    param_dist = layer_breakdown['parameter_distribution']\n",
    "    print(f\"\\nParameter Distribution:\")\n",
    "    print(f\"   Convolution: {param_dist['conv_percentage']:.2f}%\")\n",
    "    print(f\"   Linear: {param_dist['linear_percentage']:.2f}%\")"
   ]
  },
  {
   "cell_type": "code",
   "execution_count": 10,
   "metadata": {
    "execution": {
     "iopub.execute_input": "2025-09-15T11:23:45.524433Z",
     "iopub.status.busy": "2025-09-15T11:23:45.524185Z",
     "iopub.status.idle": "2025-09-15T11:23:45.633520Z",
     "shell.execute_reply": "2025-09-15T11:23:45.632515Z"
    }
   },
   "outputs": [
    {
     "name": "stdout",
     "output_type": "stream",
     "text": [
      "----------------------------------------------------------------\n",
      "        Layer (type)               Output Shape         Param #\n",
      "================================================================\n",
      "            Conv2d-1         [-1, 64, 112, 112]           9,408\n",
      "       BatchNorm2d-2         [-1, 64, 112, 112]             128\n",
      "              ReLU-3         [-1, 64, 112, 112]               0\n",
      "         MaxPool2d-4           [-1, 64, 56, 56]               0\n",
      "            Conv2d-5           [-1, 64, 56, 56]          36,864\n",
      "       BatchNorm2d-6           [-1, 64, 56, 56]             128\n",
      "              ReLU-7           [-1, 64, 56, 56]               0\n",
      "            Conv2d-8           [-1, 64, 56, 56]          36,864\n",
      "       BatchNorm2d-9           [-1, 64, 56, 56]             128\n",
      "             ReLU-10           [-1, 64, 56, 56]               0\n",
      "       BasicBlock-11           [-1, 64, 56, 56]               0\n",
      "           Conv2d-12           [-1, 64, 56, 56]          36,864\n",
      "      BatchNorm2d-13           [-1, 64, 56, 56]             128\n",
      "             ReLU-14           [-1, 64, 56, 56]               0\n",
      "           Conv2d-15           [-1, 64, 56, 56]          36,864\n",
      "      BatchNorm2d-16           [-1, 64, 56, 56]             128\n",
      "             ReLU-17           [-1, 64, 56, 56]               0\n",
      "       BasicBlock-18           [-1, 64, 56, 56]               0\n",
      "           Conv2d-19          [-1, 128, 28, 28]          73,728\n",
      "      BatchNorm2d-20          [-1, 128, 28, 28]             256\n",
      "             ReLU-21          [-1, 128, 28, 28]               0\n",
      "           Conv2d-22          [-1, 128, 28, 28]         147,456\n",
      "      BatchNorm2d-23          [-1, 128, 28, 28]             256\n",
      "           Conv2d-24          [-1, 128, 28, 28]           8,192\n",
      "      BatchNorm2d-25          [-1, 128, 28, 28]             256\n",
      "             ReLU-26          [-1, 128, 28, 28]               0\n",
      "       BasicBlock-27          [-1, 128, 28, 28]               0\n",
      "           Conv2d-28          [-1, 128, 28, 28]         147,456\n",
      "      BatchNorm2d-29          [-1, 128, 28, 28]             256\n",
      "             ReLU-30          [-1, 128, 28, 28]               0\n",
      "           Conv2d-31          [-1, 128, 28, 28]         147,456\n",
      "      BatchNorm2d-32          [-1, 128, 28, 28]             256\n",
      "             ReLU-33          [-1, 128, 28, 28]               0\n",
      "       BasicBlock-34          [-1, 128, 28, 28]               0\n",
      "           Conv2d-35          [-1, 256, 14, 14]         294,912\n",
      "      BatchNorm2d-36          [-1, 256, 14, 14]             512\n",
      "             ReLU-37          [-1, 256, 14, 14]               0\n",
      "           Conv2d-38          [-1, 256, 14, 14]         589,824\n",
      "      BatchNorm2d-39          [-1, 256, 14, 14]             512\n",
      "           Conv2d-40          [-1, 256, 14, 14]          32,768\n",
      "      BatchNorm2d-41          [-1, 256, 14, 14]             512\n",
      "             ReLU-42          [-1, 256, 14, 14]               0\n",
      "       BasicBlock-43          [-1, 256, 14, 14]               0\n",
      "           Conv2d-44          [-1, 256, 14, 14]         589,824\n",
      "      BatchNorm2d-45          [-1, 256, 14, 14]             512\n",
      "             ReLU-46          [-1, 256, 14, 14]               0\n",
      "           Conv2d-47          [-1, 256, 14, 14]         589,824\n",
      "      BatchNorm2d-48          [-1, 256, 14, 14]             512\n",
      "             ReLU-49          [-1, 256, 14, 14]               0\n",
      "       BasicBlock-50          [-1, 256, 14, 14]               0\n",
      "           Conv2d-51            [-1, 512, 7, 7]       1,179,648\n",
      "      BatchNorm2d-52            [-1, 512, 7, 7]           1,024\n",
      "             ReLU-53            [-1, 512, 7, 7]               0\n",
      "           Conv2d-54            [-1, 512, 7, 7]       2,359,296\n",
      "      BatchNorm2d-55            [-1, 512, 7, 7]           1,024\n",
      "           Conv2d-56            [-1, 512, 7, 7]         131,072\n",
      "      BatchNorm2d-57            [-1, 512, 7, 7]           1,024\n",
      "             ReLU-58            [-1, 512, 7, 7]               0\n",
      "       BasicBlock-59            [-1, 512, 7, 7]               0\n",
      "           Conv2d-60            [-1, 512, 7, 7]       2,359,296\n",
      "      BatchNorm2d-61            [-1, 512, 7, 7]           1,024\n",
      "             ReLU-62            [-1, 512, 7, 7]               0\n",
      "           Conv2d-63            [-1, 512, 7, 7]       2,359,296\n",
      "      BatchNorm2d-64            [-1, 512, 7, 7]           1,024\n",
      "             ReLU-65            [-1, 512, 7, 7]               0\n",
      "       BasicBlock-66            [-1, 512, 7, 7]               0\n",
      "AdaptiveAvgPool2d-67            [-1, 512, 1, 1]               0\n",
      "          Dropout-68                  [-1, 512]               0\n",
      "           Linear-69                    [-1, 2]           1,026\n",
      "           ResNet-70                    [-1, 2]               0\n",
      "================================================================\n",
      "Total params: 11,177,538\n",
      "Trainable params: 11,177,538\n",
      "Non-trainable params: 0\n",
      "----------------------------------------------------------------\n",
      "Input size (MB): 0.05\n",
      "Forward/backward pass size (MB): 62.79\n",
      "Params size (MB): 42.64\n",
      "Estimated Total Size (MB): 105.47\n",
      "----------------------------------------------------------------\n"
     ]
    }
   ],
   "source": [
    "# Display the model architecture\n",
    "summary(baseline_model, input_size=(3, CONFIG[\"image_size\"], CONFIG[\"image_size\"]))"
   ]
  },
  {
   "attachments": {},
   "cell_type": "markdown",
   "metadata": {},
   "source": [
    "> **_Brainstorming time: Optimizations by layer type_**\n",
    "> \n",
    "> Try to remember from the course, which architectural optimizations most benefit each layer type? Looking at the layer composition, our model is convolution-heavy - this is your starting point!"
   ]
  },
  {
   "attachments": {},
   "cell_type": "markdown",
   "metadata": {},
   "source": [
    "## Step 4: Train and evaluate baseline model\n",
    "Now, we define the baseline model and evaluate its performance on key accuracy metrics - all future optimizations should maintain a similar clinical performance standard.\n",
    "\n",
    "Establishing robust baseline metrics is crucial for medical AI. Any optimization must preserve clinical safety while improving computational efficiency."
   ]
  },
  {
   "cell_type": "code",
   "execution_count": 11,
   "metadata": {
    "execution": {
     "iopub.execute_input": "2025-09-15T11:23:45.636626Z",
     "iopub.status.busy": "2025-09-15T11:23:45.636291Z",
     "iopub.status.idle": "2025-09-15T11:26:13.304589Z",
     "shell.execute_reply": "2025-09-15T11:26:13.303769Z"
    }
   },
   "outputs": [
    {
     "name": "stdout",
     "output_type": "stream",
     "text": [
      "Starting baseline model training for pneumonia detection...\n",
      "   Config: 3 epochs, lr=0.0003, wd=0.0001\n"
     ]
    },
    {
     "name": "stderr",
     "output_type": "stream",
     "text": [
      "\r",
      "Epoch 1/3 [Train]:   0%|                                                     | 0/18 [00:00<?, ?it/s]"
     ]
    },
    {
     "name": "stderr",
     "output_type": "stream",
     "text": [
      "\r",
      "Epoch 1/3 [Train]:   0%|                              | 0/18 [00:02<?, ?it/s, Loss=0.663, Acc=59.4%]"
     ]
    },
    {
     "name": "stderr",
     "output_type": "stream",
     "text": [
      "\r",
      "Epoch 1/3 [Train]:   6%|█▏                    | 1/18 [00:02<00:48,  2.83s/it, Loss=0.663, Acc=59.4%]"
     ]
    },
    {
     "name": "stderr",
     "output_type": "stream",
     "text": [
      "\r",
      "Epoch 1/3 [Train]:   6%|█▏                    | 1/18 [00:05<00:48,  2.83s/it, Loss=1.119, Acc=67.2%]"
     ]
    },
    {
     "name": "stderr",
     "output_type": "stream",
     "text": [
      "\r",
      "Epoch 1/3 [Train]:  11%|██▍                   | 2/18 [00:05<00:42,  2.68s/it, Loss=1.119, Acc=67.2%]"
     ]
    },
    {
     "name": "stderr",
     "output_type": "stream",
     "text": [
      "\r",
      "Epoch 1/3 [Train]:  11%|██▍                   | 2/18 [00:08<00:42,  2.68s/it, Loss=0.561, Acc=69.8%]"
     ]
    },
    {
     "name": "stderr",
     "output_type": "stream",
     "text": [
      "\r",
      "Epoch 1/3 [Train]:  17%|███▋                  | 3/18 [00:08<00:45,  3.04s/it, Loss=0.561, Acc=69.8%]"
     ]
    },
    {
     "name": "stderr",
     "output_type": "stream",
     "text": [
      "\r",
      "Epoch 1/3 [Train]:  17%|███▋                  | 3/18 [00:12<00:45,  3.04s/it, Loss=0.665, Acc=73.4%]"
     ]
    },
    {
     "name": "stderr",
     "output_type": "stream",
     "text": [
      "\r",
      "Epoch 1/3 [Train]:  22%|████▉                 | 4/18 [00:12<00:44,  3.15s/it, Loss=0.665, Acc=73.4%]"
     ]
    },
    {
     "name": "stderr",
     "output_type": "stream",
     "text": [
      "\r",
      "Epoch 1/3 [Train]:  22%|████▉                 | 4/18 [00:14<00:44,  3.15s/it, Loss=0.701, Acc=72.5%]"
     ]
    },
    {
     "name": "stderr",
     "output_type": "stream",
     "text": [
      "\r",
      "Epoch 1/3 [Train]:  28%|██████                | 5/18 [00:14<00:37,  2.88s/it, Loss=0.701, Acc=72.5%]"
     ]
    },
    {
     "name": "stderr",
     "output_type": "stream",
     "text": [
      "\r",
      "Epoch 1/3 [Train]:  28%|██████                | 5/18 [00:17<00:37,  2.88s/it, Loss=0.627, Acc=72.4%]"
     ]
    },
    {
     "name": "stderr",
     "output_type": "stream",
     "text": [
      "\r",
      "Epoch 1/3 [Train]:  33%|███████▎              | 6/18 [00:17<00:32,  2.74s/it, Loss=0.627, Acc=72.4%]"
     ]
    },
    {
     "name": "stderr",
     "output_type": "stream",
     "text": [
      "\r",
      "Epoch 1/3 [Train]:  33%|███████▎              | 6/18 [00:19<00:32,  2.74s/it, Loss=0.251, Acc=74.6%]"
     ]
    },
    {
     "name": "stderr",
     "output_type": "stream",
     "text": [
      "\r",
      "Epoch 1/3 [Train]:  39%|████████▌             | 7/18 [00:19<00:29,  2.72s/it, Loss=0.251, Acc=74.6%]"
     ]
    },
    {
     "name": "stderr",
     "output_type": "stream",
     "text": [
      "\r",
      "Epoch 1/3 [Train]:  39%|████████▌             | 7/18 [00:22<00:29,  2.72s/it, Loss=0.250, Acc=76.6%]"
     ]
    },
    {
     "name": "stderr",
     "output_type": "stream",
     "text": [
      "\r",
      "Epoch 1/3 [Train]:  44%|█████████▊            | 8/18 [00:22<00:26,  2.65s/it, Loss=0.250, Acc=76.6%]"
     ]
    },
    {
     "name": "stderr",
     "output_type": "stream",
     "text": [
      "\r",
      "Epoch 1/3 [Train]:  44%|█████████▊            | 8/18 [00:24<00:26,  2.65s/it, Loss=0.188, Acc=78.1%]"
     ]
    },
    {
     "name": "stderr",
     "output_type": "stream",
     "text": [
      "\r",
      "Epoch 1/3 [Train]:  50%|███████████           | 9/18 [00:24<00:23,  2.66s/it, Loss=0.188, Acc=78.1%]"
     ]
    },
    {
     "name": "stderr",
     "output_type": "stream",
     "text": [
      "\r",
      "Epoch 1/3 [Train]:  50%|███████████           | 9/18 [00:27<00:23,  2.66s/it, Loss=0.250, Acc=79.4%]"
     ]
    },
    {
     "name": "stderr",
     "output_type": "stream",
     "text": [
      "\r",
      "Epoch 1/3 [Train]:  56%|███████████▋         | 10/18 [00:27<00:21,  2.66s/it, Loss=0.250, Acc=79.4%]"
     ]
    },
    {
     "name": "stderr",
     "output_type": "stream",
     "text": [
      "\r",
      "Epoch 1/3 [Train]:  56%|███████████▋         | 10/18 [00:30<00:21,  2.66s/it, Loss=0.135, Acc=80.7%]"
     ]
    },
    {
     "name": "stderr",
     "output_type": "stream",
     "text": [
      "\r",
      "Epoch 1/3 [Train]:  61%|████████████▊        | 11/18 [00:30<00:18,  2.60s/it, Loss=0.135, Acc=80.7%]"
     ]
    },
    {
     "name": "stderr",
     "output_type": "stream",
     "text": [
      "\r",
      "Epoch 1/3 [Train]:  61%|████████████▊        | 11/18 [00:32<00:18,  2.60s/it, Loss=0.515, Acc=80.5%]"
     ]
    },
    {
     "name": "stderr",
     "output_type": "stream",
     "text": [
      "\r",
      "Epoch 1/3 [Train]:  67%|██████████████       | 12/18 [00:32<00:15,  2.62s/it, Loss=0.515, Acc=80.5%]"
     ]
    },
    {
     "name": "stderr",
     "output_type": "stream",
     "text": [
      "\r",
      "Epoch 1/3 [Train]:  67%|██████████████       | 12/18 [00:35<00:15,  2.62s/it, Loss=0.205, Acc=81.0%]"
     ]
    },
    {
     "name": "stderr",
     "output_type": "stream",
     "text": [
      "\r",
      "Epoch 1/3 [Train]:  72%|███████████████▏     | 13/18 [00:35<00:12,  2.57s/it, Loss=0.205, Acc=81.0%]"
     ]
    },
    {
     "name": "stderr",
     "output_type": "stream",
     "text": [
      "\r",
      "Epoch 1/3 [Train]:  72%|███████████████▏     | 13/18 [00:37<00:12,  2.57s/it, Loss=0.232, Acc=81.9%]"
     ]
    },
    {
     "name": "stderr",
     "output_type": "stream",
     "text": [
      "\r",
      "Epoch 1/3 [Train]:  78%|████████████████▎    | 14/18 [00:37<00:10,  2.53s/it, Loss=0.232, Acc=81.9%]"
     ]
    },
    {
     "name": "stderr",
     "output_type": "stream",
     "text": [
      "\r",
      "Epoch 1/3 [Train]:  78%|████████████████▎    | 14/18 [00:40<00:10,  2.53s/it, Loss=0.172, Acc=82.7%]"
     ]
    },
    {
     "name": "stderr",
     "output_type": "stream",
     "text": [
      "\r",
      "Epoch 1/3 [Train]:  83%|█████████████████▌   | 15/18 [00:40<00:07,  2.54s/it, Loss=0.172, Acc=82.7%]"
     ]
    },
    {
     "name": "stderr",
     "output_type": "stream",
     "text": [
      "\r",
      "Epoch 1/3 [Train]:  83%|█████████████████▌   | 15/18 [00:42<00:07,  2.54s/it, Loss=0.143, Acc=83.0%]"
     ]
    },
    {
     "name": "stderr",
     "output_type": "stream",
     "text": [
      "\r",
      "Epoch 1/3 [Train]:  89%|██████████████████▋  | 16/18 [00:42<00:05,  2.56s/it, Loss=0.143, Acc=83.0%]"
     ]
    },
    {
     "name": "stderr",
     "output_type": "stream",
     "text": [
      "\r",
      "Epoch 1/3 [Train]:  89%|██████████████████▋  | 16/18 [00:45<00:05,  2.56s/it, Loss=0.303, Acc=83.1%]"
     ]
    },
    {
     "name": "stderr",
     "output_type": "stream",
     "text": [
      "\r",
      "Epoch 1/3 [Train]:  94%|███████████████████▊ | 17/18 [00:45<00:02,  2.56s/it, Loss=0.303, Acc=83.1%]"
     ]
    },
    {
     "name": "stderr",
     "output_type": "stream",
     "text": [
      "\r",
      "Epoch 1/3 [Train]:  94%|███████████████████▊ | 17/18 [00:46<00:02,  2.56s/it, Loss=0.433, Acc=83.2%]"
     ]
    },
    {
     "name": "stderr",
     "output_type": "stream",
     "text": [
      "\r",
      "Epoch 1/3 [Train]: 100%|█████████████████████| 18/18 [00:46<00:00,  2.19s/it, Loss=0.433, Acc=83.2%]"
     ]
    },
    {
     "name": "stderr",
     "output_type": "stream",
     "text": [
      "\r",
      "                                                                                                    "
     ]
    },
    {
     "name": "stderr",
     "output_type": "stream",
     "text": [
      "\r"
     ]
    },
    {
     "name": "stderr",
     "output_type": "stream",
     "text": [
      "\r",
      "Epoch 1/3 [Val]:   0%|                                                        | 0/4 [00:00<?, ?it/s]"
     ]
    },
    {
     "name": "stderr",
     "output_type": "stream",
     "text": [
      "\r",
      "Epoch 1/3 [Val]:   0%|                                 | 0/4 [00:01<?, ?it/s, Loss=2.199, Acc=71.9%]"
     ]
    },
    {
     "name": "stderr",
     "output_type": "stream",
     "text": [
      "\r",
      "Epoch 1/3 [Val]:  25%|██████▎                  | 1/4 [00:01<00:03,  1.05s/it, Loss=2.199, Acc=71.9%]"
     ]
    },
    {
     "name": "stderr",
     "output_type": "stream",
     "text": [
      "\r",
      "Epoch 1/3 [Val]:  25%|██████▎                  | 1/4 [00:01<00:03,  1.05s/it, Loss=2.315, Acc=68.8%]"
     ]
    },
    {
     "name": "stderr",
     "output_type": "stream",
     "text": [
      "\r",
      "Epoch 1/3 [Val]:  50%|████████████▌            | 2/4 [00:01<00:01,  1.07it/s, Loss=2.315, Acc=68.8%]"
     ]
    },
    {
     "name": "stderr",
     "output_type": "stream",
     "text": [
      "\r",
      "Epoch 1/3 [Val]:  50%|████████████▌            | 2/4 [00:02<00:01,  1.07it/s, Loss=1.973, Acc=74.0%]"
     ]
    },
    {
     "name": "stderr",
     "output_type": "stream",
     "text": [
      "\r",
      "Epoch 1/3 [Val]:  75%|██████████████████▊      | 3/4 [00:02<00:00,  1.16it/s, Loss=1.973, Acc=74.0%]"
     ]
    },
    {
     "name": "stderr",
     "output_type": "stream",
     "text": [
      "\r",
      "Epoch 1/3 [Val]:  75%|██████████████████▊      | 3/4 [00:03<00:00,  1.16it/s, Loss=1.941, Acc=74.2%]"
     ]
    },
    {
     "name": "stderr",
     "output_type": "stream",
     "text": [
      "\r",
      "Epoch 1/3 [Val]: 100%|█████████████████████████| 4/4 [00:03<00:00,  1.27it/s, Loss=1.941, Acc=74.2%]"
     ]
    },
    {
     "name": "stderr",
     "output_type": "stream",
     "text": [
      "\r",
      "                                                                                                    "
     ]
    },
    {
     "name": "stderr",
     "output_type": "stream",
     "text": [
      "\r"
     ]
    },
    {
     "name": "stdout",
     "output_type": "stream",
     "text": [
      "   Epoch  1: Train Acc  83.2% | Val Acc  74.2% | Train Loss 0.4118 | Val Loss 1.9410 | LR 0.000300\n",
      "      New best model saved (Val Acc: 74.2%)\n"
     ]
    },
    {
     "name": "stderr",
     "output_type": "stream",
     "text": [
      "\r",
      "Epoch 2/3 [Train]:   0%|                                                     | 0/18 [00:00<?, ?it/s]"
     ]
    },
    {
     "name": "stderr",
     "output_type": "stream",
     "text": [
      "\r",
      "Epoch 2/3 [Train]:   0%|                              | 0/18 [00:03<?, ?it/s, Loss=0.079, Acc=96.9%]"
     ]
    },
    {
     "name": "stderr",
     "output_type": "stream",
     "text": [
      "\r",
      "Epoch 2/3 [Train]:   6%|█▏                    | 1/18 [00:03<00:53,  3.13s/it, Loss=0.079, Acc=96.9%]"
     ]
    },
    {
     "name": "stderr",
     "output_type": "stream",
     "text": [
      "\r",
      "Epoch 2/3 [Train]:   6%|█▏                    | 1/18 [00:05<00:53,  3.13s/it, Loss=0.308, Acc=93.8%]"
     ]
    },
    {
     "name": "stderr",
     "output_type": "stream",
     "text": [
      "\r",
      "Epoch 2/3 [Train]:  11%|██▍                   | 2/18 [00:05<00:44,  2.81s/it, Loss=0.308, Acc=93.8%]"
     ]
    },
    {
     "name": "stderr",
     "output_type": "stream",
     "text": [
      "\r",
      "Epoch 2/3 [Train]:  11%|██▍                   | 2/18 [00:08<00:44,  2.81s/it, Loss=0.363, Acc=93.8%]"
     ]
    },
    {
     "name": "stderr",
     "output_type": "stream",
     "text": [
      "\r",
      "Epoch 2/3 [Train]:  17%|███▋                  | 3/18 [00:08<00:39,  2.63s/it, Loss=0.363, Acc=93.8%]"
     ]
    },
    {
     "name": "stderr",
     "output_type": "stream",
     "text": [
      "\r",
      "Epoch 2/3 [Train]:  17%|███▋                  | 3/18 [00:10<00:39,  2.63s/it, Loss=0.571, Acc=91.4%]"
     ]
    },
    {
     "name": "stderr",
     "output_type": "stream",
     "text": [
      "\r",
      "Epoch 2/3 [Train]:  22%|████▉                 | 4/18 [00:10<00:36,  2.58s/it, Loss=0.571, Acc=91.4%]"
     ]
    },
    {
     "name": "stderr",
     "output_type": "stream",
     "text": [
      "\r",
      "Epoch 2/3 [Train]:  22%|████▉                 | 4/18 [00:13<00:36,  2.58s/it, Loss=0.093, Acc=92.5%]"
     ]
    },
    {
     "name": "stderr",
     "output_type": "stream",
     "text": [
      "\r",
      "Epoch 2/3 [Train]:  28%|██████                | 5/18 [00:13<00:32,  2.52s/it, Loss=0.093, Acc=92.5%]"
     ]
    },
    {
     "name": "stderr",
     "output_type": "stream",
     "text": [
      "\r",
      "Epoch 2/3 [Train]:  28%|██████                | 5/18 [00:15<00:32,  2.52s/it, Loss=0.307, Acc=91.7%]"
     ]
    },
    {
     "name": "stderr",
     "output_type": "stream",
     "text": [
      "\r",
      "Epoch 2/3 [Train]:  33%|███████▎              | 6/18 [00:15<00:29,  2.48s/it, Loss=0.307, Acc=91.7%]"
     ]
    },
    {
     "name": "stderr",
     "output_type": "stream",
     "text": [
      "\r",
      "Epoch 2/3 [Train]:  33%|███████▎              | 6/18 [00:17<00:29,  2.48s/it, Loss=0.129, Acc=92.0%]"
     ]
    },
    {
     "name": "stderr",
     "output_type": "stream",
     "text": [
      "\r",
      "Epoch 2/3 [Train]:  39%|████████▌             | 7/18 [00:17<00:27,  2.48s/it, Loss=0.129, Acc=92.0%]"
     ]
    },
    {
     "name": "stderr",
     "output_type": "stream",
     "text": [
      "\r",
      "Epoch 2/3 [Train]:  39%|████████▌             | 7/18 [00:20<00:27,  2.48s/it, Loss=0.237, Acc=91.4%]"
     ]
    },
    {
     "name": "stderr",
     "output_type": "stream",
     "text": [
      "\r",
      "Epoch 2/3 [Train]:  44%|█████████▊            | 8/18 [00:20<00:25,  2.53s/it, Loss=0.237, Acc=91.4%]"
     ]
    },
    {
     "name": "stderr",
     "output_type": "stream",
     "text": [
      "\r",
      "Epoch 2/3 [Train]:  44%|█████████▊            | 8/18 [00:22<00:25,  2.53s/it, Loss=0.092, Acc=92.0%]"
     ]
    },
    {
     "name": "stderr",
     "output_type": "stream",
     "text": [
      "\r",
      "Epoch 2/3 [Train]:  50%|███████████           | 9/18 [00:22<00:22,  2.49s/it, Loss=0.092, Acc=92.0%]"
     ]
    },
    {
     "name": "stderr",
     "output_type": "stream",
     "text": [
      "\r",
      "Epoch 2/3 [Train]:  50%|███████████           | 9/18 [00:25<00:22,  2.49s/it, Loss=0.403, Acc=91.6%]"
     ]
    },
    {
     "name": "stderr",
     "output_type": "stream",
     "text": [
      "\r",
      "Epoch 2/3 [Train]:  56%|███████████▋         | 10/18 [00:25<00:20,  2.50s/it, Loss=0.403, Acc=91.6%]"
     ]
    },
    {
     "name": "stderr",
     "output_type": "stream",
     "text": [
      "\r",
      "Epoch 2/3 [Train]:  56%|███████████▋         | 10/18 [00:27<00:20,  2.50s/it, Loss=0.322, Acc=91.2%]"
     ]
    },
    {
     "name": "stderr",
     "output_type": "stream",
     "text": [
      "\r",
      "Epoch 2/3 [Train]:  61%|████████████▊        | 11/18 [00:27<00:17,  2.50s/it, Loss=0.322, Acc=91.2%]"
     ]
    },
    {
     "name": "stderr",
     "output_type": "stream",
     "text": [
      "\r",
      "Epoch 2/3 [Train]:  61%|████████████▊        | 11/18 [00:30<00:17,  2.50s/it, Loss=0.112, Acc=91.7%]"
     ]
    },
    {
     "name": "stderr",
     "output_type": "stream",
     "text": [
      "\r",
      "Epoch 2/3 [Train]:  67%|██████████████       | 12/18 [00:30<00:15,  2.58s/it, Loss=0.112, Acc=91.7%]"
     ]
    },
    {
     "name": "stderr",
     "output_type": "stream",
     "text": [
      "\r",
      "Epoch 2/3 [Train]:  67%|██████████████       | 12/18 [00:33<00:15,  2.58s/it, Loss=0.228, Acc=91.6%]"
     ]
    },
    {
     "name": "stderr",
     "output_type": "stream",
     "text": [
      "\r",
      "Epoch 2/3 [Train]:  72%|███████████████▏     | 13/18 [00:33<00:12,  2.55s/it, Loss=0.228, Acc=91.6%]"
     ]
    },
    {
     "name": "stderr",
     "output_type": "stream",
     "text": [
      "\r",
      "Epoch 2/3 [Train]:  72%|███████████████▏     | 13/18 [00:35<00:12,  2.55s/it, Loss=0.189, Acc=92.0%]"
     ]
    },
    {
     "name": "stderr",
     "output_type": "stream",
     "text": [
      "\r",
      "Epoch 2/3 [Train]:  78%|████████████████▎    | 14/18 [00:35<00:10,  2.51s/it, Loss=0.189, Acc=92.0%]"
     ]
    },
    {
     "name": "stderr",
     "output_type": "stream",
     "text": [
      "\r",
      "Epoch 2/3 [Train]:  78%|████████████████▎    | 14/18 [00:38<00:10,  2.51s/it, Loss=0.215, Acc=92.1%]"
     ]
    },
    {
     "name": "stderr",
     "output_type": "stream",
     "text": [
      "\r",
      "Epoch 2/3 [Train]:  83%|█████████████████▌   | 15/18 [00:38<00:07,  2.54s/it, Loss=0.215, Acc=92.1%]"
     ]
    },
    {
     "name": "stderr",
     "output_type": "stream",
     "text": [
      "\r",
      "Epoch 2/3 [Train]:  83%|█████████████████▌   | 15/18 [00:40<00:07,  2.54s/it, Loss=0.087, Acc=92.2%]"
     ]
    },
    {
     "name": "stderr",
     "output_type": "stream",
     "text": [
      "\r",
      "Epoch 2/3 [Train]:  89%|██████████████████▋  | 16/18 [00:40<00:05,  2.52s/it, Loss=0.087, Acc=92.2%]"
     ]
    },
    {
     "name": "stderr",
     "output_type": "stream",
     "text": [
      "\r",
      "Epoch 2/3 [Train]:  89%|██████████████████▋  | 16/18 [00:43<00:05,  2.52s/it, Loss=0.109, Acc=92.3%]"
     ]
    },
    {
     "name": "stderr",
     "output_type": "stream",
     "text": [
      "\r",
      "Epoch 2/3 [Train]:  94%|███████████████████▊ | 17/18 [00:43<00:02,  2.52s/it, Loss=0.109, Acc=92.3%]"
     ]
    },
    {
     "name": "stderr",
     "output_type": "stream",
     "text": [
      "\r",
      "Epoch 2/3 [Train]:  94%|███████████████████▊ | 17/18 [00:44<00:02,  2.52s/it, Loss=0.069, Acc=92.5%]"
     ]
    },
    {
     "name": "stderr",
     "output_type": "stream",
     "text": [
      "\r",
      "Epoch 2/3 [Train]: 100%|█████████████████████| 18/18 [00:44<00:00,  2.15s/it, Loss=0.069, Acc=92.5%]"
     ]
    },
    {
     "name": "stderr",
     "output_type": "stream",
     "text": [
      "\r",
      "                                                                                                    "
     ]
    },
    {
     "name": "stderr",
     "output_type": "stream",
     "text": [
      "\r"
     ]
    },
    {
     "name": "stderr",
     "output_type": "stream",
     "text": [
      "\r",
      "Epoch 2/3 [Val]:   0%|                                                        | 0/4 [00:00<?, ?it/s]"
     ]
    },
    {
     "name": "stderr",
     "output_type": "stream",
     "text": [
      "\r",
      "Epoch 2/3 [Val]:   0%|                                 | 0/4 [00:01<?, ?it/s, Loss=0.556, Acc=84.4%]"
     ]
    },
    {
     "name": "stderr",
     "output_type": "stream",
     "text": [
      "\r",
      "Epoch 2/3 [Val]:  25%|██████▎                  | 1/4 [00:01<00:03,  1.12s/it, Loss=0.556, Acc=84.4%]"
     ]
    },
    {
     "name": "stderr",
     "output_type": "stream",
     "text": [
      "\r",
      "Epoch 2/3 [Val]:  25%|██████▎                  | 1/4 [00:01<00:03,  1.12s/it, Loss=0.582, Acc=79.7%]"
     ]
    },
    {
     "name": "stderr",
     "output_type": "stream",
     "text": [
      "\r",
      "Epoch 2/3 [Val]:  50%|████████████▌            | 2/4 [00:01<00:01,  1.08it/s, Loss=0.582, Acc=79.7%]"
     ]
    },
    {
     "name": "stderr",
     "output_type": "stream",
     "text": [
      "\r",
      "Epoch 2/3 [Val]:  50%|████████████▌            | 2/4 [00:02<00:01,  1.08it/s, Loss=0.510, Acc=83.3%]"
     ]
    },
    {
     "name": "stderr",
     "output_type": "stream",
     "text": [
      "\r",
      "Epoch 2/3 [Val]:  75%|██████████████████▊      | 3/4 [00:02<00:00,  1.17it/s, Loss=0.510, Acc=83.3%]"
     ]
    },
    {
     "name": "stderr",
     "output_type": "stream",
     "text": [
      "\r",
      "Epoch 2/3 [Val]:  75%|██████████████████▊      | 3/4 [00:03<00:00,  1.17it/s, Loss=0.445, Acc=84.2%]"
     ]
    },
    {
     "name": "stderr",
     "output_type": "stream",
     "text": [
      "\r",
      "Epoch 2/3 [Val]: 100%|█████████████████████████| 4/4 [00:03<00:00,  1.34it/s, Loss=0.445, Acc=84.2%]"
     ]
    },
    {
     "name": "stderr",
     "output_type": "stream",
     "text": [
      "\r",
      "                                                                                                    "
     ]
    },
    {
     "name": "stderr",
     "output_type": "stream",
     "text": [
      "\r"
     ]
    },
    {
     "name": "stdout",
     "output_type": "stream",
     "text": [
      "   Epoch  2: Train Acc  92.5% | Val Acc  84.2% | Train Loss 0.2174 | Val Loss 0.4452 | LR 0.000300\n",
      "      New best model saved (Val Acc: 84.2%)\n"
     ]
    },
    {
     "name": "stderr",
     "output_type": "stream",
     "text": [
      "\r",
      "Epoch 3/3 [Train]:   0%|                                                     | 0/18 [00:00<?, ?it/s]"
     ]
    },
    {
     "name": "stderr",
     "output_type": "stream",
     "text": [
      "\r",
      "Epoch 3/3 [Train]:   0%|                              | 0/18 [00:03<?, ?it/s, Loss=0.673, Acc=84.4%]"
     ]
    },
    {
     "name": "stderr",
     "output_type": "stream",
     "text": [
      "\r",
      "Epoch 3/3 [Train]:   6%|█▏                    | 1/18 [00:03<00:51,  3.03s/it, Loss=0.673, Acc=84.4%]"
     ]
    },
    {
     "name": "stderr",
     "output_type": "stream",
     "text": [
      "\r",
      "Epoch 3/3 [Train]:   6%|█▏                    | 1/18 [00:05<00:51,  3.03s/it, Loss=0.070, Acc=90.6%]"
     ]
    },
    {
     "name": "stderr",
     "output_type": "stream",
     "text": [
      "\r",
      "Epoch 3/3 [Train]:  11%|██▍                   | 2/18 [00:05<00:45,  2.85s/it, Loss=0.070, Acc=90.6%]"
     ]
    },
    {
     "name": "stderr",
     "output_type": "stream",
     "text": [
      "\r",
      "Epoch 3/3 [Train]:  11%|██▍                   | 2/18 [00:08<00:45,  2.85s/it, Loss=0.121, Acc=91.7%]"
     ]
    },
    {
     "name": "stderr",
     "output_type": "stream",
     "text": [
      "\r",
      "Epoch 3/3 [Train]:  17%|███▋                  | 3/18 [00:08<00:40,  2.67s/it, Loss=0.121, Acc=91.7%]"
     ]
    },
    {
     "name": "stderr",
     "output_type": "stream",
     "text": [
      "\r",
      "Epoch 3/3 [Train]:  17%|███▋                  | 3/18 [00:10<00:40,  2.67s/it, Loss=0.246, Acc=92.2%]"
     ]
    },
    {
     "name": "stderr",
     "output_type": "stream",
     "text": [
      "\r",
      "Epoch 3/3 [Train]:  22%|████▉                 | 4/18 [00:10<00:36,  2.62s/it, Loss=0.246, Acc=92.2%]"
     ]
    },
    {
     "name": "stderr",
     "output_type": "stream",
     "text": [
      "\r",
      "Epoch 3/3 [Train]:  22%|████▉                 | 4/18 [00:13<00:36,  2.62s/it, Loss=0.047, Acc=93.8%]"
     ]
    },
    {
     "name": "stderr",
     "output_type": "stream",
     "text": [
      "\r",
      "Epoch 3/3 [Train]:  28%|██████                | 5/18 [00:13<00:33,  2.58s/it, Loss=0.047, Acc=93.8%]"
     ]
    },
    {
     "name": "stderr",
     "output_type": "stream",
     "text": [
      "\r",
      "Epoch 3/3 [Train]:  28%|██████                | 5/18 [00:15<00:33,  2.58s/it, Loss=0.121, Acc=93.8%]"
     ]
    },
    {
     "name": "stderr",
     "output_type": "stream",
     "text": [
      "\r",
      "Epoch 3/3 [Train]:  33%|███████▎              | 6/18 [00:15<00:30,  2.57s/it, Loss=0.121, Acc=93.8%]"
     ]
    },
    {
     "name": "stderr",
     "output_type": "stream",
     "text": [
      "\r",
      "Epoch 3/3 [Train]:  33%|███████▎              | 6/18 [00:18<00:30,  2.57s/it, Loss=0.131, Acc=94.2%]"
     ]
    },
    {
     "name": "stderr",
     "output_type": "stream",
     "text": [
      "\r",
      "Epoch 3/3 [Train]:  39%|████████▌             | 7/18 [00:18<00:27,  2.54s/it, Loss=0.131, Acc=94.2%]"
     ]
    },
    {
     "name": "stderr",
     "output_type": "stream",
     "text": [
      "\r",
      "Epoch 3/3 [Train]:  39%|████████▌             | 7/18 [00:20<00:27,  2.54s/it, Loss=0.057, Acc=94.5%]"
     ]
    },
    {
     "name": "stderr",
     "output_type": "stream",
     "text": [
      "\r",
      "Epoch 3/3 [Train]:  44%|█████████▊            | 8/18 [00:20<00:25,  2.55s/it, Loss=0.057, Acc=94.5%]"
     ]
    },
    {
     "name": "stderr",
     "output_type": "stream",
     "text": [
      "\r",
      "Epoch 3/3 [Train]:  44%|█████████▊            | 8/18 [00:23<00:25,  2.55s/it, Loss=0.119, Acc=94.4%]"
     ]
    },
    {
     "name": "stderr",
     "output_type": "stream",
     "text": [
      "\r",
      "Epoch 3/3 [Train]:  50%|███████████           | 9/18 [00:23<00:22,  2.55s/it, Loss=0.119, Acc=94.4%]"
     ]
    },
    {
     "name": "stderr",
     "output_type": "stream",
     "text": [
      "\r",
      "Epoch 3/3 [Train]:  50%|███████████           | 9/18 [00:25<00:22,  2.55s/it, Loss=0.159, Acc=94.7%]"
     ]
    },
    {
     "name": "stderr",
     "output_type": "stream",
     "text": [
      "\r",
      "Epoch 3/3 [Train]:  56%|███████████▋         | 10/18 [00:25<00:20,  2.53s/it, Loss=0.159, Acc=94.7%]"
     ]
    },
    {
     "name": "stderr",
     "output_type": "stream",
     "text": [
      "\r",
      "Epoch 3/3 [Train]:  56%|███████████▋         | 10/18 [00:28<00:20,  2.53s/it, Loss=0.228, Acc=94.0%]"
     ]
    },
    {
     "name": "stderr",
     "output_type": "stream",
     "text": [
      "\r",
      "Epoch 3/3 [Train]:  61%|████████████▊        | 11/18 [00:28<00:17,  2.52s/it, Loss=0.228, Acc=94.0%]"
     ]
    },
    {
     "name": "stderr",
     "output_type": "stream",
     "text": [
      "\r",
      "Epoch 3/3 [Train]:  61%|████████████▊        | 11/18 [00:30<00:17,  2.52s/it, Loss=0.037, Acc=94.5%]"
     ]
    },
    {
     "name": "stderr",
     "output_type": "stream",
     "text": [
      "\r",
      "Epoch 3/3 [Train]:  67%|██████████████       | 12/18 [00:30<00:15,  2.52s/it, Loss=0.037, Acc=94.5%]"
     ]
    },
    {
     "name": "stderr",
     "output_type": "stream",
     "text": [
      "\r",
      "Epoch 3/3 [Train]:  67%|██████████████       | 12/18 [00:33<00:15,  2.52s/it, Loss=0.173, Acc=94.5%]"
     ]
    },
    {
     "name": "stderr",
     "output_type": "stream",
     "text": [
      "\r",
      "Epoch 3/3 [Train]:  72%|███████████████▏     | 13/18 [00:33<00:12,  2.50s/it, Loss=0.173, Acc=94.5%]"
     ]
    },
    {
     "name": "stderr",
     "output_type": "stream",
     "text": [
      "\r",
      "Epoch 3/3 [Train]:  72%|███████████████▏     | 13/18 [00:35<00:12,  2.50s/it, Loss=0.366, Acc=93.8%]"
     ]
    },
    {
     "name": "stderr",
     "output_type": "stream",
     "text": [
      "\r",
      "Epoch 3/3 [Train]:  78%|████████████████▎    | 14/18 [00:35<00:09,  2.49s/it, Loss=0.366, Acc=93.8%]"
     ]
    },
    {
     "name": "stderr",
     "output_type": "stream",
     "text": [
      "\r",
      "Epoch 3/3 [Train]:  78%|████████████████▎    | 14/18 [00:38<00:09,  2.49s/it, Loss=0.071, Acc=94.0%]"
     ]
    },
    {
     "name": "stderr",
     "output_type": "stream",
     "text": [
      "\r",
      "Epoch 3/3 [Train]:  83%|█████████████████▌   | 15/18 [00:38<00:07,  2.51s/it, Loss=0.071, Acc=94.0%]"
     ]
    },
    {
     "name": "stderr",
     "output_type": "stream",
     "text": [
      "\r",
      "Epoch 3/3 [Train]:  83%|█████████████████▌   | 15/18 [00:40<00:07,  2.51s/it, Loss=0.017, Acc=94.3%]"
     ]
    },
    {
     "name": "stderr",
     "output_type": "stream",
     "text": [
      "\r",
      "Epoch 3/3 [Train]:  89%|██████████████████▋  | 16/18 [00:40<00:04,  2.48s/it, Loss=0.017, Acc=94.3%]"
     ]
    },
    {
     "name": "stderr",
     "output_type": "stream",
     "text": [
      "\r",
      "Epoch 3/3 [Train]:  89%|██████████████████▋  | 16/18 [00:43<00:04,  2.48s/it, Loss=0.073, Acc=94.5%]"
     ]
    },
    {
     "name": "stderr",
     "output_type": "stream",
     "text": [
      "\r",
      "Epoch 3/3 [Train]:  94%|███████████████████▊ | 17/18 [00:43<00:02,  2.50s/it, Loss=0.073, Acc=94.5%]"
     ]
    },
    {
     "name": "stderr",
     "output_type": "stream",
     "text": [
      "\r",
      "Epoch 3/3 [Train]:  94%|███████████████████▊ | 17/18 [00:44<00:02,  2.50s/it, Loss=0.167, Acc=94.3%]"
     ]
    },
    {
     "name": "stderr",
     "output_type": "stream",
     "text": [
      "\r",
      "Epoch 3/3 [Train]: 100%|█████████████████████| 18/18 [00:44<00:00,  2.19s/it, Loss=0.167, Acc=94.3%]"
     ]
    },
    {
     "name": "stderr",
     "output_type": "stream",
     "text": [
      "\r",
      "                                                                                                    "
     ]
    },
    {
     "name": "stderr",
     "output_type": "stream",
     "text": [
      "\r"
     ]
    },
    {
     "name": "stderr",
     "output_type": "stream",
     "text": [
      "\r",
      "Epoch 3/3 [Val]:   0%|                                                        | 0/4 [00:00<?, ?it/s]"
     ]
    },
    {
     "name": "stderr",
     "output_type": "stream",
     "text": [
      "\r",
      "Epoch 3/3 [Val]:   0%|                                 | 0/4 [00:01<?, ?it/s, Loss=0.231, Acc=90.6%]"
     ]
    },
    {
     "name": "stderr",
     "output_type": "stream",
     "text": [
      "\r",
      "Epoch 3/3 [Val]:  25%|██████▎                  | 1/4 [00:01<00:03,  1.17s/it, Loss=0.231, Acc=90.6%]"
     ]
    },
    {
     "name": "stderr",
     "output_type": "stream",
     "text": [
      "\r",
      "Epoch 3/3 [Val]:  25%|██████▎                  | 1/4 [00:02<00:03,  1.17s/it, Loss=0.338, Acc=89.1%]"
     ]
    },
    {
     "name": "stderr",
     "output_type": "stream",
     "text": [
      "\r",
      "Epoch 3/3 [Val]:  50%|████████████▌            | 2/4 [00:02<00:01,  1.01it/s, Loss=0.338, Acc=89.1%]"
     ]
    },
    {
     "name": "stderr",
     "output_type": "stream",
     "text": [
      "\r",
      "Epoch 3/3 [Val]:  50%|████████████▌            | 2/4 [00:02<00:01,  1.01it/s, Loss=0.254, Acc=91.7%]"
     ]
    },
    {
     "name": "stderr",
     "output_type": "stream",
     "text": [
      "\r",
      "Epoch 3/3 [Val]:  75%|██████████████████▊      | 3/4 [00:02<00:00,  1.08it/s, Loss=0.254, Acc=91.7%]"
     ]
    },
    {
     "name": "stderr",
     "output_type": "stream",
     "text": [
      "\r",
      "Epoch 3/3 [Val]:  75%|██████████████████▊      | 3/4 [00:03<00:00,  1.08it/s, Loss=0.206, Acc=92.5%]"
     ]
    },
    {
     "name": "stderr",
     "output_type": "stream",
     "text": [
      "\r",
      "Epoch 3/3 [Val]: 100%|█████████████████████████| 4/4 [00:03<00:00,  1.20it/s, Loss=0.206, Acc=92.5%]"
     ]
    },
    {
     "name": "stderr",
     "output_type": "stream",
     "text": [
      "\r",
      "                                                                                                    "
     ]
    },
    {
     "name": "stderr",
     "output_type": "stream",
     "text": [
      "\r"
     ]
    },
    {
     "name": "stdout",
     "output_type": "stream",
     "text": [
      "   Epoch  3: Train Acc  94.3% | Val Acc  92.5% | Train Loss 0.1598 | Val Loss 0.2060 | LR 0.000300\n",
      "      New best model saved (Val Acc: 92.5%)\n",
      "Training completed! Best validation accuracy: 92.50%\n"
     ]
    },
    {
     "data": {
      "image/png": "[encoded data removed]",
      "text/plain": [
       "<Figure size 1500x500 with 2 Axes>"
      ]
     },
     "metadata": {},
     "output_type": "display_data"
    },
    {
     "name": "stdout",
     "output_type": "stream",
     "text": [
      "\n",
      "Training Summary:\n",
      "   Best Validation Accuracy: 92.5%\n",
      "   Total Epochs: 3\n",
      "   Final Training Accuracy: 94.3%\n",
      "   Final Validation Accuracy: 92.5%\n"
     ]
    }
   ],
   "source": [
    "# Training configuration\n",
    "TRAINING_CONFIG = {\n",
    "    'num_epochs': 3,            # Reduced for faster baseline execution\n",
    "    'learning_rate': 0.0003,    # Conservative rate for stable training\n",
    "    'lr_step_size': 3,          # Learning rate decay schedule\n",
    "    'weight_decay': 1e-4,       # Regularization for generalization\n",
    "    'patience': 1               # Early stopping for efficiency\n",
    "}\n",
    "\n",
    "# Train the model\n",
    "baseline_model, training_history = train_baseline_model(\n",
    "    baseline_model, train_loader, val_loader, device, TRAINING_CONFIG\n",
    ")\n",
    "\n",
    "# Plot training curves with analysis\n",
    "plot_training_history(training_history)"
   ]
  },
  {
   "attachments": {},
   "cell_type": "markdown",
   "metadata": {},
   "source": [
    "> **Training insights: What does the training history tell us?**\n",
    "> \n",
    "> The initial low validation accuracy is due to extreme overfitting due to the small dataset size in comparison to the model's parameter size. The presence of early plateaus and fast convergence also highlight that the architecture has high representational power - we can likely apply aggressive optimization without accuracy degradation."
   ]
  },
  {
   "cell_type": "code",
   "execution_count": 12,
   "metadata": {
    "execution": {
     "iopub.execute_input": "2025-09-15T11:26:13.307549Z",
     "iopub.status.busy": "2025-09-15T11:26:13.307232Z",
     "iopub.status.idle": "2025-09-15T11:26:20.351484Z",
     "shell.execute_reply": "2025-09-15T11:26:20.350491Z"
    }
   },
   "outputs": [
    {
     "name": "stdout",
     "output_type": "stream",
     "text": [
      "Running eval benchmark on 120 test samples ...\n",
      "\n",
      "Evaluating with threshold 0.4:\n"
     ]
    },
    {
     "name": "stdout",
     "output_type": "stream",
     "text": [
      "Clinical Evaluation Results (threshold: 0.400):\n",
      "   Accuracy:  77.5%\n",
      "   Precision: 73.5% (PPV - Positive Predictive Value)\n",
      "   Recall:    100.0% (Sensitivity)\n",
      "   F1 Score:  84.7%\n",
      "   AUC-ROC:   0.910\n",
      "\n",
      "Confusion Matrix Analysis:\n",
      "   True Negatives (Normal correctly identified):      18\n",
      "   False Positives (Normal misclassified):            27\n",
      "   False Negatives (Pneumonia missed):                 0\n",
      "   True Positives (Pneumonia correctly detected):    75\n",
      "\n",
      "Clinical Performance Interpretation:\n",
      "   Sensitivity (True Positive Rate):     100.0% (detects 100.0% of pneumonia cases)\n",
      "   Specificity (True Negative Rate):     40.0% (correctly identifies 40.0% of normal cases)\n",
      "   PPV (Positive Predictive Value):      73.5% (when model predicts pneumonia, it's correct 73.5% of time)\n",
      "   NPV (Negative Predictive Value):      100.0% (when model predicts normal, it's correct 100.0% of time)\n",
      "\n",
      "Clinical Significance:\n",
      "   False Negative Rate: 0.0% (missed pneumonia cases - critical for patient safety)\n",
      "   False Positive Rate: 60.0% (unnecessary follow-ups - impacts healthcare resources)\n",
      "\n",
      "Evaluating with threshold 0.7:\n"
     ]
    },
    {
     "name": "stdout",
     "output_type": "stream",
     "text": [
      "Clinical Evaluation Results (threshold: 0.700):\n",
      "   Accuracy:  80.8%\n",
      "   Precision: 76.5% (PPV - Positive Predictive Value)\n",
      "   Recall:    100.0% (Sensitivity)\n",
      "   F1 Score:  86.7%\n",
      "   AUC-ROC:   0.910\n",
      "\n",
      "Confusion Matrix Analysis:\n",
      "   True Negatives (Normal correctly identified):      22\n",
      "   False Positives (Normal misclassified):            23\n",
      "   False Negatives (Pneumonia missed):                 0\n",
      "   True Positives (Pneumonia correctly detected):    75\n",
      "\n",
      "Clinical Performance Interpretation:\n",
      "   Sensitivity (True Positive Rate):     100.0% (detects 100.0% of pneumonia cases)\n",
      "   Specificity (True Negative Rate):     48.9% (correctly identifies 48.9% of normal cases)\n",
      "   PPV (Positive Predictive Value):      76.5% (when model predicts pneumonia, it's correct 76.5% of time)\n",
      "   NPV (Negative Predictive Value):      100.0% (when model predicts normal, it's correct 100.0% of time)\n",
      "\n",
      "Clinical Significance:\n",
      "   False Negative Rate: 0.0% (missed pneumonia cases - critical for patient safety)\n",
      "   False Positive Rate: 51.1% (unnecessary follow-ups - impacts healthcare resources)\n"
     ]
    }
   ],
   "source": [
    "# Evaluate model performance with multiple thresholds \n",
    "print(f\"Running eval benchmark on {dataset_splits['test']['total']} test samples ...\")\n",
    "eval_results = evaluate_with_multiple_thresholds(baseline_model, test_loader, device, [0.4, 0.7])"
   ]
  },
  {
   "attachments": {},
   "cell_type": "markdown",
   "metadata": {},
   "source": [
    "> **Clinical threshold selection**\n",
    ">\n",
    "> Different thresholds optimize for different clinical scenarios. Lower thresholds (0.4) maximize sensitivity for screening, while higher thresholds (0.7) balance precision and recall for diagnostic confirmation."
   ]
  },
  {
   "attachments": {},
   "cell_type": "markdown",
   "metadata": {},
   "source": [
    "## Step 5: Profile baseline model for latency, throughput, and memory usage\n",
    "\n",
    "Comprehensive performance profiling forms the foundation of our optimization strategy. We will measure all key metrics that impact multi-tenant deployment."
   ]
  },
  {
   "cell_type": "code",
   "execution_count": 13,
   "metadata": {
    "execution": {
     "iopub.execute_input": "2025-09-15T11:26:20.354274Z",
     "iopub.status.busy": "2025-09-15T11:26:20.353912Z",
     "iopub.status.idle": "2025-09-15T11:26:20.598474Z",
     "shell.execute_reply": "2025-09-15T11:26:20.597506Z"
    }
   },
   "outputs": [
    {
     "name": "stdout",
     "output_type": "stream",
     "text": [
      "Performance profiler initialized for cpu\n"
     ]
    },
    {
     "name": "stdout",
     "output_type": "stream",
     "text": [
      "\n",
      "Sample batch for profiling:\n",
      "   Batch shape: torch.Size([32, 3, 64, 64])\n",
      "   Memory usage: 1.5 MB\n"
     ]
    }
   ],
   "source": [
    "# Initialize performance profiler\n",
    "profiler = PerformanceProfiler(device=str(device))\n",
    "print(f\"Performance profiler initialized for {device}\")\n",
    "\n",
    "# Get sample batch for profiling\n",
    "sample_images, sample_labels = get_sample_batch(val_loader)\n",
    "sample_images = sample_images.to(device)\n",
    "sample_labels = sample_labels.to(device)\n",
    "\n",
    "print(f\"\\nSample batch for profiling:\")\n",
    "print(f\"   Batch shape: {sample_images.shape}\")\n",
    "print(f\"   Memory usage: {sample_images.numel() * sample_images.element_size() / 1024**2:.1f} MB\")"
   ]
  },
  {
   "cell_type": "code",
   "execution_count": 14,
   "metadata": {
    "execution": {
     "iopub.execute_input": "2025-09-15T11:26:20.601733Z",
     "iopub.status.busy": "2025-09-15T11:26:20.601421Z",
     "iopub.status.idle": "2025-09-15T11:27:51.249451Z",
     "shell.execute_reply": "2025-09-15T11:27:51.248832Z"
    }
   },
   "outputs": [
    {
     "name": "stdout",
     "output_type": "stream",
     "text": [
      "Profiling inference timing...\n"
     ]
    },
    {
     "name": "stdout",
     "output_type": "stream",
     "text": [
      "\n",
      "Timing Results:\n",
      "   Single Sample Latency: 36.88 ms\n",
      "   (Single) Batch Throughput: 27.1 samples/sec\n",
      "   Batch Latency: 786.03 ms\n",
      "   Batch Throughput: 40.7 samples/sec\n",
      "   Mean Inference Time: 36.88 ms\n",
      "   95th Percentile: 50.55 ms\n",
      "   Standard Deviation: 6.95 ms\n"
     ]
    }
   ],
   "source": [
    "# Profile inference timing\n",
    "print(\"Profiling inference timing...\")\n",
    "\n",
    "timing_results = profiler.profile_inference_time(\n",
    "    model=baseline_model,\n",
    "    input_tensor=sample_images,\n",
    "    num_runs=100,       # Sufficient for statistical significance\n",
    "    warmup_runs=10      # GPU warmup for consistent measurements\n",
    ")\n",
    "\n",
    "print(f\"\\nTiming Results:\")\n",
    "print(f\"   Single Sample Latency: {timing_results['single_sample_ms']:.2f} ms\")\n",
    "print(f\"   (Single) Batch Throughput: {timing_results['throughput_samples_per_sec']:.1f} samples/sec\")\n",
    "print(f\"   Batch Latency: {timing_results['batch_total_ms']:.2f} ms\")\n",
    "print(f\"   Batch Throughput: {timing_results['batch_throughput_samples_per_sec']:.1f} samples/sec\")\n",
    "print(f\"   Mean Inference Time: {timing_results['mean_ms']:.2f} ms\")\n",
    "print(f\"   95th Percentile: {timing_results['p95_ms']:.2f} ms\")\n",
    "print(f\"   Standard Deviation: {timing_results['std_ms']:.2f} ms\")"
   ]
  },
  {
   "attachments": {},
   "cell_type": "markdown",
   "metadata": {},
   "source": [
    "> **Latency vs throughput trade-offs**\n",
    ">\n",
    "> Single sample latency measures real-time diagnostic speed, while batch throughput indicates multi-tenant efficiency. Both metrics are crucial for different deployment scenarios."
   ]
  },
  {
   "cell_type": "code",
   "execution_count": 15,
   "metadata": {
    "execution": {
     "iopub.execute_input": "2025-09-15T11:27:51.251630Z",
     "iopub.status.busy": "2025-09-15T11:27:51.251421Z",
     "iopub.status.idle": "2025-09-15T11:27:52.073155Z",
     "shell.execute_reply": "2025-09-15T11:27:52.072471Z"
    }
   },
   "outputs": [
    {
     "name": "stderr",
     "output_type": "stream",
     "text": [
      "Unsupported operator aten::max_pool2d encountered 1 time(s)\n"
     ]
    },
    {
     "name": "stderr",
     "output_type": "stream",
     "text": [
      "Unsupported operator aten::add_ encountered 8 time(s)\n"
     ]
    },
    {
     "name": "stdout",
     "output_type": "stream",
     "text": [
      "\n",
      "FLOPs Results:\n",
      "   Total: 58.21 GFLOPs\n",
      "   Per Sample: 1.82 GFLOPs\n",
      "\n",
      "   Top Operations (by FLOPs):\n",
      "     conv: 99.7% (58.03 GFLOPs)\n",
      "     batch_norm: 0.3% (0.16 GFLOPs)\n",
      "     upsample_bilinear2d: 0.0% (0.02 GFLOPs)\n",
      "     adaptive_avg_pool2d: 0.0% (0.00 GFLOPs)\n",
      "     linear: 0.0% (0.00 GFLOPs)\n"
     ]
    }
   ],
   "source": [
    "# Profile FLOPs for computational efficiency analysis\n",
    "flops_results = profiler.profile_flops(\n",
    "    model=baseline_model, \n",
    "    input_tensor=sample_images\n",
    ")\n",
    "\n",
    "if 'error' in flops_results:\n",
    "    print(f\"FLOPs calculation failed: {flops_results['error']}\")\n",
    "else:\n",
    "    print(f\"\\nFLOPs Results:\")\n",
    "    print(f\"   Total: {flops_results['total_gflops']:.2f} GFLOPs\")\n",
    "    print(f\"   Per Sample: {flops_results['gflops_per_sample']:.2f} GFLOPs\")\n",
    "    if 'module_percentage' in flops_results and flops_results['module_percentage']:\n",
    "        print(f\"\\n   Top Operations (by FLOPs):\")\n",
    "        for module, percentage in list(flops_results['module_percentage'].items())[:5]:\n",
    "            gflops = flops_results['module_breakdown_gflops'][module]\n",
    "            print(f\"     {module}: {percentage:.1f}% ({gflops:.2f} GFLOPs)\")"
   ]
  },
  {
   "cell_type": "code",
   "execution_count": 16,
   "metadata": {
    "execution": {
     "iopub.execute_input": "2025-09-15T11:27:52.075381Z",
     "iopub.status.busy": "2025-09-15T11:27:52.075151Z",
     "iopub.status.idle": "2025-09-15T11:27:53.866660Z",
     "shell.execute_reply": "2025-09-15T11:27:53.865838Z"
    }
   },
   "outputs": [
    {
     "name": "stdout",
     "output_type": "stream",
     "text": [
      "Profiling GPU memory usage...\n"
     ]
    },
    {
     "name": "stdout",
     "output_type": "stream",
     "text": [
      "\n",
      "Memory Results:\n",
      "   Peak GPU Memory: 1562.4 MB\n",
      "   Memory Increase: 0.0 MB\n",
      "\n",
      "Memory Component Breakdown:\n",
      "   Model Parameters Mb: 42.6 MB\n",
      "   Input Tensor Mb: 1.5 MB\n",
      "   Output Tensor Mb: 0.0 MB\n",
      "   Estimated Activations Mb: 0.0 MB\n"
     ]
    }
   ],
   "source": [
    "# Profile GPU memory usage\n",
    "print(\"Profiling GPU memory usage...\")\n",
    "\n",
    "memory_results = profiler.profile_memory_usage(\n",
    "    model=baseline_model,\n",
    "    input_tensor=sample_images\n",
    ")\n",
    "\n",
    "if 'error' not in memory_results:\n",
    "    print(f\"\\nMemory Results:\")\n",
    "    print(f\"   Peak GPU Memory: {memory_results['peak_memory_mb']:.1f} MB\")\n",
    "    print(f\"   Memory Increase: {memory_results['memory_increase_mb']:.1f} MB\")\n",
    "    \n",
    "    # Component breakdown\n",
    "    if 'component_breakdown' in memory_results:\n",
    "        components = memory_results['component_breakdown']\n",
    "        print(f\"\\nMemory Component Breakdown:\")\n",
    "        for component, usage in components.items():\n",
    "            print(f\"   {component.replace('_', ' ').title()}: {usage:.1f} MB\")\n",
    "else:\n",
    "    print(f\"WARNING: Memory profiling error: {memory_results['error']}\")\n",
    "    memory_results = {}"
   ]
  },
  {
   "attachments": {},
   "cell_type": "markdown",
   "metadata": {},
   "source": [
    "> **_Did you notice? A major optimization opportunity hiding in plain sight!_**\n",
    "> \n",
    "> Look carefully at the model summary above. Something doesn't add up with our input/output dimensions...\n",
    "> \n",
    "> Compare the input size we are feeding (64x64) with the first convolution layer's output size. The first Conv2d layer shows output `[-1, 64, 112, 112]` but our input is only 64x64. Where are those extra pixels coming from? Complete the TODO below to find out.\n",
    "> \n",
    "> *Optimization opportunity:* This might be your biggest single optimization win, in both speed and memory usage! Keep this insight in mind as you analyze the profiling results below."
   ]
  },
  {
   "cell_type": "code",
   "execution_count": 17,
   "metadata": {
    "execution": {
     "iopub.execute_input": "2025-09-15T11:27:53.868869Z",
     "iopub.status.busy": "2025-09-15T11:27:53.868635Z",
     "iopub.status.idle": "2025-09-15T11:27:53.900256Z",
     "shell.execute_reply": "2025-09-15T11:27:53.899497Z"
    }
   },
   "outputs": [
    {
     "name": "stdout",
     "output_type": "stream",
     "text": [
      "Manually inspect the ResNetBaseline forward method:\n",
      "    def forward(self, x: torch.Tensor) -> torch.Tensor:\n",
      "        \"\"\"\n",
      "        Forward pass with adaptive input interpolation for variable input sizes.\n",
      "        \n",
      "        Automatically handles input size adaptation to leverage ImageNet pretrained\n",
      "        features optimally. Critical for medical imaging where input sizes may vary\n",
      "        across different acquisition protocols.\n",
      "        \n",
      "        Args:\n",
      "            x: Input tensor of shape (batch_size, channels, height, width)\n",
      "            \n",
      "        Returns:\n",
      "            Output logits of shape (batch_size, num_classes) for classification\n",
      "            \n",
      "        Note:\n",
      "            Bilinear interpolation maintains spatial relationships in medical images\n",
      "            while adapting to the expected ImageNet input size for optimal\n",
      "            pretrained feature utilization.\n",
      "            \n",
      "        Example:\n",
      "            >>> model = ResNetBaseline()\n",
      "            >>> input_tensor = torch.randn(8, 3, 28, 28)  # Variable input size\n",
      "            >>> output = model(input_tensor)  # Automatically interpolated to 224x224\n",
      "            >>> print(f\"Output shape: {output.shape}\")  # [8, 2]\n",
      "        \"\"\"\n",
      "        # Extract input dimensions for adaptive processing\n",
      "        batch_size, channels, height, width = x.shape\n",
      "        \n",
      "        # Interpolate to ImageNet standard if input size differs\n",
      "        if height != self.target_size or width != self.target_size:\n",
      "            x = F.interpolate(\n",
      "                x, \n",
      "                size=(self.target_size, self.target_size), \n",
      "                mode='bilinear',  # Preserves medical image spatial relationships\n",
      "                align_corners=False\n",
      "            )\n",
      "        \n",
      "        return self.model(x)\n",
      "\n",
      "\n",
      "Discussion questions:\n",
      "1. What happens when height != self.target_size? What is self.target_size set to?\n",
      "2. How much computational and memory overhead does F.interpolate add? (Hint: Compare 64x64 vs 224x224 pixel counts)\n",
      "3. Is this interpolation necessary for pneumonia detection, or just a legacy from ImageNet pretraining?\n"
     ]
    }
   ],
   "source": [
    "# Inspect the baseline model's forward method using `inspect.get_source()`\n",
    "print(\"Manually inspect the ResNetBaseline forward method:\")\n",
    "baseline_model_forward = inspect.getsource(type(baseline_model).forward)\n",
    "print(baseline_model_forward)\n",
    "\n",
    "print(\"\\nDiscussion questions:\")\n",
    "print(\"1. What happens when height != self.target_size? What is self.target_size set to?\") \n",
    "print(\"2. How much computational and memory overhead does F.interpolate add? (Hint: Compare 64x64 vs 224x224 pixel counts)\")\n",
    "print(\"3. Is this interpolation necessary for pneumonia detection, or just a legacy from ImageNet pretraining?\")"
   ]
  },
  {
   "cell_type": "code",
   "execution_count": 18,
   "metadata": {
    "execution": {
     "iopub.execute_input": "2025-09-15T11:27:53.902683Z",
     "iopub.status.busy": "2025-09-15T11:27:53.902461Z",
     "iopub.status.idle": "2025-09-15T11:28:04.826212Z",
     "shell.execute_reply": "2025-09-15T11:28:04.825439Z"
    }
   },
   "outputs": [
    {
     "name": "stdout",
     "output_type": "stream",
     "text": [
      "Running detailed PyTorch profiler...\n"
     ]
    },
    {
     "name": "stderr",
     "output_type": "stream",
     "text": [
      "STAGE:2025-09-15 14:27:53 1186751:1186751 ActivityProfilerController.cpp:314] Completed Stage: Warm Up\n"
     ]
    },
    {
     "name": "stderr",
     "output_type": "stream",
     "text": [
      "STAGE:2025-09-15 14:28:04 1186751:1186751 ActivityProfilerController.cpp:320] Completed Stage: Collection\n",
      "STAGE:2025-09-15 14:28:04 1186751:1186751 ActivityProfilerController.cpp:324] Completed Stage: Post Processing\n"
     ]
    },
    {
     "name": "stdout",
     "output_type": "stream",
     "text": [
      "\n",
      "Operation Breakdown:\n",
      "   Convolution Ops: 87.9%\n",
      "   Normalization Ops: 4.9%\n",
      "   Pooling Ops: 4.5%\n",
      "   Activation Ops: 1.4%\n"
     ]
    }
   ],
   "source": [
    "# Detailed PyTorch profiler\n",
    "print(\"Running detailed PyTorch profiler...\")\n",
    "\n",
    "detailed_results = profiler.profile_with_pytorch_profiler(\n",
    "    model=baseline_model,\n",
    "    input_tensor=sample_images,\n",
    "    num_steps=10        # Sufficient for operation breakdown analysis\n",
    ")\n",
    "\n",
    "if 'error' not in detailed_results:\n",
    "    print(f\"\\nOperation Breakdown:\")\n",
    "    op_breakdown = detailed_results['operation_breakdown']\n",
    "    \n",
    "    # Show top operations for optimization targeting\n",
    "    sorted_ops = sorted(op_breakdown.items(), key=lambda x: x[1], reverse=True)\n",
    "    for op_type, percentage in sorted_ops:\n",
    "        if percentage > 1:  # Only show operations > 1%\n",
    "            print(f\"   {op_type.replace('_', ' ').title()}: {percentage:.1f}%\")\n",
    "else:\n",
    "    print(f\"WARNING: Detailed profiling error: {detailed_results['error']}\")\n",
    "    detailed_results = {}"
   ]
  },
  {
   "attachments": {},
   "cell_type": "markdown",
   "metadata": {},
   "source": [
    "## Step 6: Visualize and save baseline model's performance\n",
    "\n",
    "Comprehensive visualization helps understand optimization opportunities and track progress across optimization experiments."
   ]
  },
  {
   "cell_type": "code",
   "execution_count": 19,
   "metadata": {
    "execution": {
     "iopub.execute_input": "2025-09-15T11:28:04.828531Z",
     "iopub.status.busy": "2025-09-15T11:28:04.828316Z",
     "iopub.status.idle": "2025-09-15T11:28:05.570527Z",
     "shell.execute_reply": "2025-09-15T11:28:05.569636Z"
    }
   },
   "outputs": [
    {
     "data": {
      "image/png": "[encoded data removed]",
      "text/plain": [
       "<Figure size 1600x1200 with 4 Axes>"
      ]
     },
     "metadata": {},
     "output_type": "display_data"
    },
    {
     "data": {
      "image/png": "[encoded data removed]",
      "text/plain": [
       "<Figure size 1600x800 with 2 Axes>"
      ]
     },
     "metadata": {},
     "output_type": "display_data"
    }
   ],
   "source": [
    "# Visualize performance profile\n",
    "plot_performance_profile(timing_results)\n",
    "\n",
    "# Visualize operation breakdown\n",
    "if detailed_results and 'operation_breakdown' in detailed_results:\n",
    "    plot_operation_breakdown(detailed_results['operation_breakdown'])\n",
    "else:\n",
    "    print(\"WARNING: Operation breakdown visualization not available\")"
   ]
  },
  {
   "cell_type": "code",
   "execution_count": 20,
   "metadata": {
    "execution": {
     "iopub.execute_input": "2025-09-15T11:28:05.572997Z",
     "iopub.status.busy": "2025-09-15T11:28:05.572770Z",
     "iopub.status.idle": "2025-09-15T11:28:05.607620Z",
     "shell.execute_reply": "2025-09-15T11:28:05.606618Z"
    }
   },
   "outputs": [
    {
     "name": "stdout",
     "output_type": "stream",
     "text": [
      "Baseline results saved to 'baseline_results.pkl' in the `results/` folder\n",
      "   This will be used for comparison in optimization notebooks.\n"
     ]
    }
   ],
   "source": [
    "# Compile baseline results for optimization notebooks\n",
    "baseline_results = {\n",
    "    'model_name': 'ResNet-18 Baseline',\n",
    "    'architecture': model_info['architecture'],\n",
    "    'total_parameters': model_info['total_parameters'],\n",
    "    'model_size_mb': model_info['model_size_mb'],\n",
    "    'config': CONFIG,\n",
    "    'eval_results': eval_results,\n",
    "    'timing': timing_results,\n",
    "    'flops': flops_results,\n",
    "    'memory': memory_results,\n",
    "    'operation_breakdown': detailed_results['operation_breakdown'],\n",
    "    'model_info': model_info,\n",
    "    'dataset_info': dataset_info,\n",
    "    'parameter_breakdown': count_parameters_by_type(baseline_model)\n",
    "}\n",
    "\n",
    "# Save baseline results\n",
    "with open('../results/baseline_results.pkl', 'wb') as f:\n",
    "    pickle.dump(baseline_results, f)\n",
    "\n",
    "print(\"Baseline results saved to 'baseline_results.pkl' in the `results/` folder\")\n",
    "print(\"   This will be used for comparison in optimization notebooks.\")"
   ]
  },
  {
   "attachments": {},
   "cell_type": "markdown",
   "metadata": {},
   "source": [
    "> **Brainstorming time!**\n",
    "> \n",
    "> Based on your profiling results above, analyze the following:\n",
    "> \n",
    "> 1. **Primary bottleneck**: What is the main performance bottleneck - compute time, memory usage, or data transfer?\n",
    "> \n",
    "> 2. **Operation analysis**: Which types of operations (convolution, linear, activation) consume the most time? What percentage?\n",
    "> \n",
    "> 3. **Memory patterns**: How much memory does the model use during inference? What contributes most to memory usage?\n",
    "> \n",
    "> 4. **Optimization priority**: Based on the profiling data, which optimization techniques would you prioritize:\n",
    ">    - Architecture modifications (channel reduction, efficient blocks)\n",
    ">    - Precision optimization (mixed precision, quantization)\n",
    ">    - Hardware acceleration (TensorRT for GPU, ...)\n",
    ">   \n",
    ">    _IMPORTANT:_ Did you discover the major inefficiency we hinted at earlier? How much improvement could removing the 64→224 interpolation provide?"
   ]
  },
  {
   "attachments": {},
   "cell_type": "markdown",
   "metadata": {},
   "source": [
    "---\n",
    "\n",
    "## Step 7: Analyze optimization opportunities\n",
    "\n",
    "Now that we have established the baseline performance, it's time for you to conduct a deeper analysis that will guide the optimization strategy. This section contains **two focused analysis checkpoints**:\n",
    "\n",
    "1. **Architecture optimization analysis** - Identify specific opportunities in the ResNet-18 architecture\n",
    "2. **Deployment optimization analysis** - Understand hardware acceleration and deployment strategies\n",
    "\n",
    "Complete these analysis checkpoints to develop your optimization roadmap!"
   ]
  },
  {
   "attachments": {},
   "cell_type": "markdown",
   "metadata": {},
   "source": [
    "### Analysis checkpoint 1: Architecture optimization opportunities\n",
    "\n",
    "**Task:** Analyze the ResNet-18 architecture to identify the **top 2 optimization opportunities** from the techniques covered in the course. Available techniques to consider include:\n",
    "- Grouped convolutions\n",
    "- Depth-wise separable convolutions\n",
    "- Inverted residuals with linear bottlenecks\n",
    "- Low-rank factorization\n",
    "- Channel organization strategies _(NOTE: this is a hybrid optimization between architecture and hardware)_\n",
    "- Parameter sharing / weight tying\n",
    "\n",
    "Feel free to skip programmatic analysis of techniques which you deem to be non-applicable or less performant, but provide an explanation here or in the notebook's final markdown cell.\n",
    "\n",
    "**IMPORTANT:** Don't forget to also analyze the potential of interpolation removal from the model's forward method!\n",
    "\n",
    "#### Recommended strategic analysis approach\n",
    "\n",
    "Calculate the expected impact of applying each technique on parameter reduction programmatically to simplify follow-up analysis. Consider how parameter reduction / architectural improvements for each technique correlate with memory size (activation vs parameters), FLOPs, latency, throughput, and sensitivity to estimate optimization opportunity. HINTS are in each function's signature.\n",
    "\n",
    "To populate the analysis dictionary with estimated optimiation opportunity, you can either:\n",
    "1. Programmatically calculate optimization opportunity from parameter reduction and rule-of-thumb\n",
    "2. Directly add the expected value in the analysis entries, and add a one-line explanation of the value selected as an in-line comment."
   ]
  },
  {
   "cell_type": "code",
   "execution_count": 21,
   "metadata": {
    "execution": {
     "iopub.execute_input": "2025-09-15T11:28:05.610541Z",
     "iopub.status.busy": "2025-09-15T11:28:05.610269Z",
     "iopub.status.idle": "2025-09-15T11:28:05.654195Z",
     "shell.execute_reply": "2025-09-15T11:28:05.653497Z"
    }
   },
   "outputs": [],
   "source": [
    "## Implement logic for each single technique analysis\n",
    "\n",
    "def analyze_grouped_conv_potential(model, sample_input_shape=(3, CONFIG[\"image_size\"], CONFIG[\"image_size\"]), groups=2):\n",
    "    \"\"\"\n",
    "    TODO: Analyze which convolution layers could benefit from grouped convolutions.\n",
    "\n",
    "    HINT: Look for standard convolutions with kernel_size > 1 and sufficient channels that are divisible by groups\n",
    "    \n",
    "    Memory impact: Note that parameter memory is only ~13% of total memory in ResNet-18\n",
    "    FLOP improvements: Update the `in_ch × out_ch × kernel²` calculation for standard conv to account for `groups` division\n",
    "    Speedup: Proportional to FLOP reduction, but may have overhead from grouped operations on **parallel hardware**\n",
    "    Throughput: Can be limited by memory bandwidth and **hardware utilization** patterns for grouped operations.\n",
    "    \n",
    "    Also, note that, some backends (like CUDA/CUDNN) may require specific memory formats (e.g., channels_last) and mixed precision to unlock maximum throughput for grouped convolutions.\n",
    "    This is a known issue: https://discuss.pytorch.org/t/performing-convolutions-in-groups-but-not-grouped-convolution/59412/27\n",
    "    \"\"\"\n",
    "    # Initialize analysis structure (feel free to skip any entries you don't want to programmatically calculate)\n",
    "    analysis = {\n",
    "        'technique': 'Grouped Convolutions',\n",
    "        'groups': groups,\n",
    "        'candidate_layers': [],\n",
    "        'total_candidates': 0,\n",
    "        'avg_flop_reduction_percent': 0,\n",
    "        'avg_param_reduction_percent': 0,\n",
    "        'estimated_speedup': 1.0,\n",
    "        'estimated_memory_reduction_mb': 0,\n",
    "        'estimated_throughput_samples_sec': timing_results['throughput_samples_per_sec'],\n",
    "        'throughput_improvement_percent': 0,\n",
    "        'sensitivity_risk': ''\n",
    "    }\n",
    "\n",
    "    # TODO: Complete the analysis dictionary with relevant values\n",
    "    # HINT:\n",
    "    # 1. Find candidates: for name, module in model.named_modules() if isinstance(module, nn.Conv2d) and module.kernel_size[0] > 1 and module.groups == 1 and module.in_channels % groups == 0\n",
    "    # 2. Calculate per-layer: grouped_params = standard_params // groups, then param_reduction = (standard_params - grouped_params) / standard_params\n",
    "    # 3. Aggregate impact: total_flops_saved += per_layer_savings, then realistic_speedup = 1 / (1 - flop_reduction_ratio * conv_coverage * hardware_efficiency_factor)\n",
    "    \n",
    "    return analysis\n",
    "\n",
    "def analyze_depthwise_separable_potential(model, sample_input_shape=(3, CONFIG[\"image_size\"], CONFIG[\"image_size\"])):\n",
    "    \"\"\"\n",
    "    TODO: Analyze which convolution layers could benefit from depthwise separable convolutions/\n",
    "\n",
    "    HINT: Look for standard convolutions with kernel_size > 1 and sufficient channels (e.g., >=16)\n",
    "    \n",
    "    Memory impact: Note that parameter memory is only ~13% of total memory in ResNet-18\n",
    "    FLOP improvements: Update the `in_ch × out_ch × kernel²` calculation for standard conv to account for two layers now\n",
    "    Speedup: Proportional to FLOP reduction, but can be penalized (e.g., ~0.6x) due to memory-access overhead, as many small operations may not fully utilize hardware parallelism\n",
    "    Throughput: Directly scales with speedup estimates for batch processing scenarios\n",
    "    \"\"\"\n",
    "    # Initialize analysis structure (feel free to skip any entries you don't want to programmatically calculate)\n",
    "    analysis = {\n",
    "        'technique': 'Depthwise Separable Convolutions',\n",
    "        'candidate_layers': [],\n",
    "        'total_candidates': 0,\n",
    "        'avg_flop_reduction_percent': 0,\n",
    "        'avg_param_reduction_percent': 0,\n",
    "        'estimated_speedup': 1.0,\n",
    "        'estimated_memory_reduction_mb': 0,\n",
    "        'estimated_throughput_samples_sec': timing_results['throughput_samples_per_sec'],\n",
    "        'throughput_improvement_percent': 0,\n",
    "        'sensitivity_risk': ''\n",
    "    }\n",
    "\n",
    "    # TODO: Complete the analysis dictionary with relevant values\n",
    "    # HINT: \n",
    "    # 1. Find candidates: for name, module in model.named_modules() if isinstance(module, nn.Conv2d) and module.kernel_size[0] > 1 and module.in_channels >= 16\n",
    "    # 2. Calculate per-layer: separable_params = (in_ch * k²) + (in_ch * out_ch), separable_flops = (feature_size * in_ch * k²) + (feature_size * in_ch * out_ch)\n",
    "    # 3. Aggregate impact: avg_flop_reduction = total_flops_saved / total_candidate_flops, then apply hardware penalty: final_speedup = theoretical_speedup * 0.6    \n",
    "    return analysis\n",
    "\n",
    "def analyze_inverted_residuals_potential(model):\n",
    "    \"\"\"\n",
    "    TODO: Analyze potential for inverted residual blocks (expand -> depthwise -> project).\n",
    "    Hint: Look for 3x3 convolutions that expand channels (MobileNet-style patterns)\n",
    "    \n",
    "    Memory impact: Can reduce average memory but may increase peak during expansion phase\n",
    "    FLOP improvements: Layer-specific FLOP savings through efficient bottleneck patterns\n",
    "    Speedup: 1.1x to 1.2x based on candidate count and architecture structure (variable)\n",
    "    Throughput: Modest improvements proportional to architectural efficiency gains\n",
    "    \"\"\"\n",
    "    # Initialize analysis structure (feel free to skip any entries you don't want to programmatically calculate)\n",
    "    analysis = {\n",
    "        'technique': 'Inverted Residual Blocks',\n",
    "        'residual_candidates': [],\n",
    "        'total_candidates': 0,\n",
    "        'avg_flop_reduction_percent': 0,\n",
    "        'estimated_speedup': 1.0,\n",
    "        'estimated_memory_reduction_mb': 0,\n",
    "        'estimated_throughput_samples_sec': timing_results['throughput_samples_per_sec'],\n",
    "        'throughput_improvement_percent': 0,\n",
    "        'sensitivity_risk': ''\n",
    "    }\n",
    "    \n",
    "    # TODO: Complete the analysis dictionary with relevant values\n",
    "    # HINT:\n",
    "    # 1. Find candidates: for name, module in model.named_modules() if hasattr(module, 'children') and len([m for m in module.children() if isinstance(m, nn.Conv2d)]) >= 3\n",
    "    # 2. Calculate per-layer: Use rule-of-thumb flop_reduction_percent = 60 for inverted residual patterns (expand->depthwise->project)\n",
    "    # 3. Aggregate impact: coverage_factor = min(1.0, total_candidates / 8), then speedup = 1.0 + (avg_reduction / 100) * conv_impact * 2.5\n",
    "    \n",
    "    return analysis\n",
    "\n",
    "def analyze_lowrank_factorization_potential(model, batch_size=32):\n",
    "    \"\"\"\n",
    "    TODO: Analyze large linear layers that could benefit from low-rank factorization.\n",
    "    Hint: Focus on layers where input_features * output_features > 10000\n",
    "\n",
    "    Memory impact: Reduces parameter memory through low-rank matrix decomposition\n",
    "    FLOP improvements: Matrix multiply FLOPs reduced proportionally to rank reduction --> batch_size × (in_features × rank + rank × out_features)\n",
    "    Speedup: 1.0x–1.4x depending on layers present, but penalized due to factorization overhead\n",
    "    Throughput: Limited improvement for ResNet-18 due to small linear layers, but scales with any FLOP reductions achieved\n",
    "    \"\"\"\n",
    "    # Initialize analysis structure (feel free to skip any entries you don't want to programmatically calculate)\n",
    "    analysis = {\n",
    "        'technique': 'Low-Rank Factorization',\n",
    "        'factorization_candidates': [],\n",
    "        'total_candidates': 0,\n",
    "        'avg_param_reduction_percent': 0,\n",
    "        'avg_flop_reduction_percent': 0,\n",
    "        'estimated_speedup': 1.0,\n",
    "        'estimated_memory_reduction_mb': 0,\n",
    "        'estimated_throughput_samples_sec': timing_results['throughput_samples_per_sec'],\n",
    "        'throughput_improvement_percent': 0,\n",
    "        'sensitivity_risk': ''\n",
    "    }\n",
    "    \n",
    "    # TODO: Complete the analysis dictionary with relevant values\n",
    "    # HINT:\n",
    "    # 1. Find candidates: for name, module in model.named_modules() if isinstance(module, nn.Linear) and (module.in_features * module.out_features) > 10000\n",
    "    # 2. Calculate per-layer: optimal_rank = int(min_dim * rank_ratio), factorized_params = (in_features * rank) + (rank * out_features)\n",
    "    # 3. Aggregate impact: Limited by matrix_multiply_impact from operation_breakdown, speedup = 1.0 + (param_reduction / 100) * matrix_multiply_impact * 0.7\n",
    "        \n",
    "    return analysis\n",
    "\n",
    "def analyze_channel_organization_potential(model):\n",
    "    \"\"\"\n",
    "    TODO: Analyze channel organization optimizations for hardware efficiency.\n",
    "    Hint: Look for in-place operation opportunities (architceture optimization) and memory layout optimizations (hardware optimization)\n",
    "    \n",
    "    Memory impact: Improved memory access patterns or reduced memory via more efficient channel organization (variable)\n",
    "    FLOP improvements: No FLOP reduction - same operations, just more efficient execution\n",
    "    Speedup: 1.05x-1.10x depending on hardware and implementation (variable)\n",
    "    Throughput: Small but consistent improvements through better hardware utilization patterns\n",
    "    \"\"\"\n",
    "    # Initialize analysis structure (feel free to skip any entries you don't want to programmatically calculate)\n",
    "    analysis = {\n",
    "        'technique': 'Channel Organization (channels_last + in-place ReLU)',\n",
    "        'inplace_opportunities': {},\n",
    "        'estimated_speedup': 1.0,\n",
    "        'estimated_memory_reduction_mb': 0,\n",
    "        'avg_flop_reduction_percent': 0,\n",
    "        'estimated_throughput_samples_sec': timing_results['throughput_samples_per_sec'],\n",
    "        'throughput_improvement_percent': 0,\n",
    "        'sensitivity_risk': ''\n",
    "    }\n",
    "    \n",
    "    # TODO: Complete the analysis dictionary with relevant values\n",
    "    # HINT:\n",
    "    # 1. Find candidates: relu_count = sum(1 for m in model.modules() if isinstance(m, nn.ReLU) and not m.inplace)\n",
    "    # 2. Calculate per-layer: No parameter reduction - this is memory layout optimization (channels_last + in-place operations)\n",
    "    # 3. Aggregate impact: Base speedup = 1.2 for channels_last, then speedup *= (1.0 + relu_count * 0.008) for in-place opportunities\n",
    "\n",
    "    return analysis\n",
    "\n",
    "def analyze_parameter_sharing_potential(model):\n",
    "    \"\"\"\n",
    "    TODO: Analyze potential for parameter sharing across similar layers.\n",
    "    Hint: Use convolution-to-total parameter ratio to estimate redundancy potential.\n",
    "          Higher conv ratio indicates greater opportunity for sharing similar operations.\n",
    "\n",
    "    Memory impact: Reduces parameter memory footprint directly through weight sharing\n",
    "    FLOP improvements: Sharing can reduce redundant computation and improve cache locality, but may also introduce overhead\n",
    "    Speedup: Apply 0.5x multiplier to sharing ratio due to implementation complexity\n",
    "    Throughput: Conservative improvements due to potential overhead from shared parameter access patterns\n",
    "    \"\"\"\n",
    "    # Initialize analysis structure (feel free to skip any entries you don't want to programmatically calculate)\n",
    "    analysis = {\n",
    "        'technique': 'Parameter Sharing',\n",
    "        'similar_layer_groups': [],\n",
    "        'sharing_potential_percent': 0,\n",
    "        'avg_flop_reduction_percent': 0,\n",
    "        'estimated_speedup': 1.0,\n",
    "        'estimated_memory_reduction_mb': 0,\n",
    "        'estimated_throughput_samples_sec': timing_results['throughput_samples_per_sec'],\n",
    "        'throughput_improvement_percent': 0,\n",
    "        'sensitivity_risk': ''\n",
    "    }\n",
    "    \n",
    "    # TODO: Complete the analysis dictionary with relevant values\n",
    "    # HINT:\n",
    "    # 1. Find candidates: Group conv layers by similar shapes: if abs(layer1_channels - layer2_channels) <= threshold and same kernel_size\n",
    "    # 2. Calculate per-layer: For each sharing group, saved_params = sum(params for duplicate layers in group[1:])\n",
    "    # 3. Aggregate impact: sharing_potential = min(0.25, total_shareable_params / total_params), then speedup = 1.0 + sharing_potential * 0.4\n",
    "\n",
    "    return analysis\n",
    "\n",
    "def analyze_interpolation_removal_potential(model, sample_input_shape=(3, CONFIG[\"image_size\"], CONFIG[\"image_size\"])):\n",
    "    \"\"\"\n",
    "    TODO: Analyze the potential for removing interpolation overhead by processing images at native resolution.\n",
    "    HINT: This is the biggest single optimization opportunity! Focus on calculating the computational overhead from 64x64→224x224 interpolation\n",
    "    \n",
    "    Memory impact: A % of activtion memory scales with input size reduction (12x theoretical)\n",
    "    FLOP improvements: Direct 12x reduction in convolution operations\n",
    "    Speedup: LIMITED by Amdahl's law - a % of the convolution_ops scales with input size, but there are also fixed overheads (FC layers, data loading) that don't scale with input size\n",
    "    Throughput: Better for batch processing where fixed costs are amortized (make sure to multiply estimate by at least the current batch processing)\n",
    "    \"\"\"\n",
    "    # Initialize analysis structure (feel free to skip any entries you don't want to programmatically calculate)\n",
    "    analysis = {\n",
    "        'technique': 'Interpolation Removal (Native Resolution)',\n",
    "        'interpolation_size': None,  # TODO: Find this integer value in the model's forward() method \n",
    "        'original_image_size': CONFIG[\"image_size\"],\n",
    "        'avg_flop_reduction_percent': 0,\n",
    "        'estimated_speedup': 1.0,\n",
    "        'estimated_memory_reduction_mb': 0,\n",
    "        'estimated_throughput_samples_sec': timing_results['throughput_samples_per_sec'],\n",
    "        'throughput_improvement_percent': 0,\n",
    "        'sensitivity_risk': ''\n",
    "    }\n",
    "\n",
    "    # TODO: Complete the analysis dictionary with relevant values\n",
    "    # HINT:\n",
    "    # 1. Find overhead: Look for interpolation_size = 224 in model.forward(), calculate interpolation_factor = (224 / 64)² = 12.25x\n",
    "    # 2. Calculate theoretical: theoretical_flop_reduction = 1.0 - (1.0 / interpolation_factor) = ~91.8%\n",
    "    # 3. Apply Amdahl's Law: Only scalable_portion = conv_coverage * 0.6 benefits, speedup = 1 / (fixed_portion + scalable_portion / interpolation_factor)\n",
    "\n",
    "    return analysis"
   ]
  },
  {
   "cell_type": "code",
   "execution_count": 22,
   "metadata": {
    "execution": {
     "iopub.execute_input": "2025-09-15T11:28:05.656678Z",
     "iopub.status.busy": "2025-09-15T11:28:05.656440Z",
     "iopub.status.idle": "2025-09-15T11:28:05.706844Z",
     "shell.execute_reply": "2025-09-15T11:28:05.705931Z"
    }
   },
   "outputs": [
    {
     "name": "stdout",
     "output_type": "stream",
     "text": [
      "Running architecture optimization analysis...\n",
      "\n",
      "ARCHITECTURE OPTIMIZATION RESULTS:\n",
      "\n",
      "   Grouped Convolutions:\n",
      "     Candidate Layers: 0\n",
      "     Groups: 2\n",
      "     Avg Param Reduction Percent: 0\n",
      "     Estimated Speedup: 1.0\n",
      "     Avg Flop Reduction Percent: 0\n",
      "     Estimated Memory Reduction Mb: 0\n",
      "     Throughput Improvement Percent: 0\n",
      "     Sensitivity Risk: \n",
      "\n",
      "   Depthwise Separable:\n",
      "     Candidate Layers: 0\n",
      "     Avg Param Reduction Percent: 0\n",
      "     Estimated Speedup: 1.0\n",
      "     Avg Flop Reduction Percent: 0\n",
      "     Estimated Memory Reduction Mb: 0\n",
      "     Throughput Improvement Percent: 0\n",
      "     Sensitivity Risk: \n",
      "\n",
      "   Inverted Residuals:\n",
      "     Expansion Candidates: 0\n",
      "     Estimated Speedup: 1.0\n",
      "     Avg Flop Reduction Percent: 0\n",
      "     Estimated Memory Reduction Mb: 0\n",
      "     Throughput Improvement Percent: 0\n",
      "     Sensitivity Risk: \n",
      "\n",
      "   Low Rank Factorization:\n",
      "     Candidate Layers: 0\n",
      "     Avg Param Reduction Percent: 0\n",
      "     Estimated Speedup: 1.0\n",
      "     Avg Flop Reduction Percent: 0\n",
      "     Estimated Memory Reduction Mb: 0\n",
      "     Throughput Improvement Percent: 0\n",
      "     Sensitivity Risk: \n",
      "\n",
      "   Channel Organization:\n",
      "     Inplace Opportunities: {}\n",
      "     Estimated Speedup: 1.0\n",
      "     Avg Flop Reduction Percent: 0\n",
      "     Estimated Memory Reduction Mb: 0\n",
      "     Throughput Improvement Percent: 0\n",
      "     Sensitivity Risk: \n",
      "\n",
      "   Parameter Sharing:\n",
      "     Sharing Potential Percent: 0\n",
      "     Estimated Speedup: 1.0\n",
      "     Avg Flop Reduction Percent: 0\n",
      "     Estimated Memory Reduction Mb: 0\n",
      "     Throughput Improvement Percent: 0\n",
      "     Sensitivity Risk: \n",
      "\n",
      "   Interpolation Removal:\n",
      "     Current Input Size: None\n",
      "     Native Input Size: 64\n",
      "     Estimated Speedup: 1.0\n",
      "     Avg Flop Reduction Percent: 0\n",
      "     Estimated Memory Reduction Mb: 0\n",
      "     Throughput Improvement Percent: 0\n",
      "     Sensitivity Risk: \n"
     ]
    }
   ],
   "source": [
    "# Run the complete architecture optimization analysis with all 5 implemented analysis functions above\n",
    "def run_architecture_optimization_analysis(model):\n",
    "    \"\"\"\n",
    "    Main function to run all architecture optimization analyses.\n",
    "    \"\"\"\n",
    "    print(\"Running architecture optimization analysis...\")\n",
    "    \n",
    "    # Call each analysis function\n",
    "    depthwise_analysis = analyze_depthwise_separable_potential(model)\n",
    "    grouped_analysis = analyze_grouped_conv_potential(model)\n",
    "    inverted_analysis = analyze_inverted_residuals_potential(model)\n",
    "    lowrank_analysis = analyze_lowrank_factorization_potential(model)\n",
    "    channel_analysis = analyze_channel_organization_potential(model)\n",
    "    sharing_analysis = analyze_parameter_sharing_potential(model)\n",
    "    interpolation_analysis = analyze_interpolation_removal_potential(model)\n",
    "    \n",
    "    # Combine all analyses into comprehensive result\n",
    "    # TODO: Remove any techniques which haven't been analyzed\n",
    "    optimization_techniques = {\n",
    "        'grouped_convolutions': {\n",
    "            'candidate_layers': grouped_analysis['total_candidates'],\n",
    "            'groups': grouped_analysis['groups'],\n",
    "            'avg_param_reduction_percent': grouped_analysis['avg_param_reduction_percent'],\n",
    "            'estimated_speedup': grouped_analysis['estimated_speedup'],\n",
    "            'avg_flop_reduction_percent': grouped_analysis['avg_flop_reduction_percent'],\n",
    "            'estimated_memory_reduction_mb': grouped_analysis['estimated_memory_reduction_mb'],\n",
    "            'throughput_improvement_percent': grouped_analysis['throughput_improvement_percent'],\n",
    "            'sensitivity_risk': grouped_analysis['sensitivity_risk'],\n",
    "            'details': grouped_analysis['candidate_layers'][:3]  # Show top 3\n",
    "        },\n",
    "        'depthwise_separable': {\n",
    "            'candidate_layers': depthwise_analysis['total_candidates'],\n",
    "            'avg_param_reduction_percent': depthwise_analysis['avg_param_reduction_percent'],\n",
    "            'estimated_speedup': depthwise_analysis['estimated_speedup'],\n",
    "            'avg_flop_reduction_percent': depthwise_analysis['avg_flop_reduction_percent'],\n",
    "            'estimated_memory_reduction_mb': depthwise_analysis['estimated_memory_reduction_mb'],\n",
    "            'throughput_improvement_percent': depthwise_analysis['throughput_improvement_percent'],\n",
    "            'sensitivity_risk': depthwise_analysis['sensitivity_risk'],\n",
    "            'details': depthwise_analysis['candidate_layers'][:3]  # Show top 3\n",
    "        },\n",
    "        'inverted_residuals': {\n",
    "            'expansion_candidates': inverted_analysis['total_candidates'],\n",
    "            'estimated_speedup': inverted_analysis['estimated_speedup'],\n",
    "            'avg_flop_reduction_percent': inverted_analysis['avg_flop_reduction_percent'],\n",
    "            'estimated_memory_reduction_mb': inverted_analysis['estimated_memory_reduction_mb'],\n",
    "            'throughput_improvement_percent': inverted_analysis['throughput_improvement_percent'],\n",
    "            'sensitivity_risk': inverted_analysis['sensitivity_risk']\n",
    "        },\n",
    "        'low_rank_factorization': {\n",
    "            'candidate_layers': lowrank_analysis['total_candidates'],\n",
    "            'avg_param_reduction_percent': lowrank_analysis['avg_param_reduction_percent'],\n",
    "            'estimated_speedup': lowrank_analysis['estimated_speedup'],\n",
    "            'avg_flop_reduction_percent': lowrank_analysis['avg_flop_reduction_percent'],\n",
    "            'estimated_memory_reduction_mb': lowrank_analysis['estimated_memory_reduction_mb'],\n",
    "            'throughput_improvement_percent': lowrank_analysis['throughput_improvement_percent'],\n",
    "            'sensitivity_risk': lowrank_analysis['sensitivity_risk']\n",
    "        },\n",
    "        'channel_organization': {\n",
    "            'inplace_opportunities': channel_analysis['inplace_opportunities'],\n",
    "            'estimated_speedup': channel_analysis['estimated_speedup'],\n",
    "            'avg_flop_reduction_percent': channel_analysis['avg_flop_reduction_percent'],\n",
    "            'estimated_memory_reduction_mb': channel_analysis['estimated_memory_reduction_mb'],\n",
    "            'throughput_improvement_percent': channel_analysis['throughput_improvement_percent'],\n",
    "            'sensitivity_risk': channel_analysis['sensitivity_risk']\n",
    "        },\n",
    "        'parameter_sharing': {\n",
    "            'sharing_potential_percent': sharing_analysis['sharing_potential_percent'],\n",
    "            'estimated_speedup': sharing_analysis['estimated_speedup'],\n",
    "            'avg_flop_reduction_percent': sharing_analysis['avg_flop_reduction_percent'],\n",
    "            'estimated_memory_reduction_mb': sharing_analysis['estimated_memory_reduction_mb'],\n",
    "            'throughput_improvement_percent': sharing_analysis['throughput_improvement_percent'],\n",
    "            'sensitivity_risk': sharing_analysis['sensitivity_risk']\n",
    "        },\n",
    "        'interpolation_removal': {\n",
    "            'current_input_size': interpolation_analysis[\"interpolation_size\"],\n",
    "            'native_input_size': interpolation_analysis[\"original_image_size\"],\n",
    "            'estimated_speedup': interpolation_analysis['estimated_speedup'],\n",
    "            'avg_flop_reduction_percent': interpolation_analysis['avg_flop_reduction_percent'],\n",
    "            'estimated_memory_reduction_mb': interpolation_analysis['estimated_memory_reduction_mb'],\n",
    "            'throughput_improvement_percent': interpolation_analysis['throughput_improvement_percent'],\n",
    "            'sensitivity_risk': interpolation_analysis['sensitivity_risk']\n",
    "        }\n",
    "    }\n",
    "    \n",
    "    return optimization_techniques\n",
    "\n",
    "# Execute architecture analysis\n",
    "arch_analysis = run_architecture_optimization_analysis(baseline_model)\n",
    "\n",
    "# Display results\n",
    "print(f\"\\nARCHITECTURE OPTIMIZATION RESULTS:\")\n",
    "for technique, details in arch_analysis.items():\n",
    "    print(f\"\\n   {technique.replace('_', ' ').title()}:\")\n",
    "    for key, value in details.items():\n",
    "        if key != 'details':\n",
    "            print(f\"     {key.replace('_', ' ').title()}: {value}\")"
   ]
  },
  {
   "attachments": {},
   "cell_type": "markdown",
   "metadata": {},
   "source": [
    "> **_Before you move on...brainstorming time!_**\n",
    "> \n",
    "> Based on your architecture analysis results, collect yours insights on architectural opportunities\n",
    "> \n",
    "> 1. **Primary bottleneck**: What operation type consumes the most compute time in your model? Why does this pattern make sense for ResNet-18 architecture? How does this inform your optimization strategy?\n",
    "> \n",
    "> 2. **Resource trade-offs:**: Which optimizations reduce parameters vs which improve compute efficiency? How might accuracy be affected by each technique?\n",
    "> \n",
    "> 3. **Optimization priority**: In which order would you recommend implementing the 5 architectural techniques? Consider both impact and implementation difficulty.\n",
    "> \n",
    "> 4. **Feasibility assessment:**: Will the combined optimizations achieve the 3ms target? If not, what additional techniques might be needed?"
   ]
  },
  {
   "attachments": {},
   "cell_type": "markdown",
   "metadata": {},
   "source": [
    "### Analysis checkpoint 2: Deployment optimization opportunities\n",
    "\n",
    "**Task:** Analyze deployment characteristics for our reference hardware, with a focus on batch processing trade-offs and mixed precision acceleration.\n",
    "\n",
    "_Feel free to also add considerations from other hardware optimization techniques, such as leveraging specialized hardware acceleration units (e.g., Tensor Cores, NPUs) and other memory optimization patterns._"
   ]
  },
  {
   "cell_type": "code",
   "execution_count": 23,
   "metadata": {
    "execution": {
     "iopub.execute_input": "2025-09-15T11:28:05.709645Z",
     "iopub.status.busy": "2025-09-15T11:28:05.709383Z",
     "iopub.status.idle": "2025-09-15T11:28:05.763805Z",
     "shell.execute_reply": "2025-09-15T11:28:05.762813Z"
    }
   },
   "outputs": [],
   "source": [
    "### Implement logic for each single technique analysis \n",
    "\n",
    "def analyze_mixed_precision_potential(detailed_results):\n",
    "    \"\"\"    \n",
    "    TODO: Analyze mixed precision (FP16) acceleration potential.\n",
    "    HINTS: These are the key analysis points to focus on:\n",
    "    - Mixed precision suitability calculation based on operation types (hardware accelerators for FP16 typically target matrix multiplies and convolutions)\n",
    "    - Research-backed speedup estimates (1.8-2.5x for high coverage)\n",
    "    - Memory reduction modeling (FP32->FP16 = ~50% reduction)\n",
    "    - Throughput impact calculation (scales with speedup for batch processing scenarios)\n",
    "    \"\"\"\n",
    "    # Initialize analysis structure (feel free to skip any entries you don't want to programmatically calculate)\n",
    "    analysis = {\n",
    "        'technique': 'Mixed Precision (FP16)',\n",
    "        'mixed_precision_eligible_ops': 0,\n",
    "        'mixed_precision_coverage_percent': 0,\n",
    "        'estimated_speedup': 1.0,\n",
    "        'estimated_memory_reduction_mb': 0,\n",
    "        'avg_flop_reduction_percent': 0,\n",
    "        'estimated_throughput_samples_sec': timing_results['batch_throughput_samples_per_sec'],\n",
    "        'throughput_improvement_percent': 0,\n",
    "        'sensitivity_risk': ''\n",
    "    }\n",
    "\n",
    "    # TODO: Complete the analysis dictionary with relevant values\n",
    "    # HINT: 3-step process\n",
    "    # 1. Find mixed precision eligible ops: eligible_ops = matrix_ops + conv_ops from detailed_results['operation_breakdown']\n",
    "    # 2. Calculate coverage: coverage_percent = (eligible_ops / total_ops) * 100, then research-backed speedup = 1.8 + (coverage - 50) * 0.014 if coverage > 50%\n",
    "    # 3. Aggregate impact: memory_reduction = peak_memory_mb * 0.5 (FP32->FP16), throughput = baseline_throughput * estimated_speedup\n",
    "    \n",
    "    return analysis\n",
    "\n",
    "def analyze_batch_processing_scenarios(model, mixed_precision_speedup, sample_input_shape=(3, CONFIG[\"image_size\"], CONFIG[\"image_size\"])):\n",
    "    \"\"\"\n",
    "    TODO: Analyze different deployment scenarios with realistic batch processing logic.\n",
    "    \n",
    "    HINT: Focus on finding optimal batch sizes for different use cases (real-time vs throughput) using the profiler.profile_multiple_batch_sizes() function.\n",
    "    Real-time optimizes for lowest latency per sample, throughput optimizes for maximum samples/sec\n",
    "    \"\"\"\n",
    "    # Initialize analysis structure (feel free to skip any entries you don't want to programmatically calculate)\n",
    "    scenarios = {\n",
    "        'real_time_diagnosis': {\n",
    "            'optimal_batch_size': None,\n",
    "            'current_latency_ms': None,\n",
    "            'mixed_precision_latency_ms': None,\n",
    "            'use_case': 'Emergency diagnosis, single patient processing'\n",
    "        },\n",
    "        'batch_processing': {\n",
    "            'optimal_batch_size': None,\n",
    "            'current_throughput_samples_sec': None,\n",
    "            'mixed_precision_throughput_samples_sec': None,\n",
    "            'use_case': 'Screening workflows, research processing'\n",
    "        }\n",
    "    }\n",
    "    \n",
    "    # Test batch sizes appropriate for T4 memory constraints\n",
    "    batch_sizes = []  # TODO: Add your values here\n",
    "\n",
    "    print(\"   Profiling multiple batch sizes...\")\n",
    "    batch_results = profiler.profile_multiple_batch_sizes(\n",
    "        model, sample_images.shape, batch_sizes\n",
    "    )\n",
    "    \n",
    "    # TODO: Complete the analysis dictionary with relevant values\n",
    "    # HINT: You can extract all information from batch_results \n",
    "    # 1. Find optimal configs: real_time_optimal = min(batches, key=lambda k: latency_per_sample), throughput_optimal = max(batches, key=lambda k: samples_per_sec)\n",
    "    # 2. Create scenarios: Remember to apply mixed_precision_speedup to both latency (divide) and throughput (multiply) for deployment projections\n",
    "\n",
    "    return batch_results, scenarios"
   ]
  },
  {
   "cell_type": "code",
   "execution_count": 24,
   "metadata": {
    "execution": {
     "iopub.execute_input": "2025-09-15T11:28:05.767537Z",
     "iopub.status.busy": "2025-09-15T11:28:05.767093Z",
     "iopub.status.idle": "2025-09-15T11:28:05.824430Z",
     "shell.execute_reply": "2025-09-15T11:28:05.823250Z"
    }
   },
   "outputs": [
    {
     "name": "stdout",
     "output_type": "stream",
     "text": [
      "Running Deployment Optimization Analysis...\n",
      "   Profiling multiple batch sizes...\n",
      "No batch results available for visualization\n",
      "\n",
      "DEPLOYMENT OPTIMIZATION RESULTS:\n",
      "\n",
      "   Mixed Precision (FP16):\n",
      "     Tensor Core Eligible: 0.0%\n",
      "     Estimated FLOP improvements: 0.0MB\n",
      "     Estimated Speedup: 1.0x\n",
      "     Estimated Throughput improvements %: 0.0%\n",
      "     Estimated Memory Savings: 0.0MB\n",
      "     Estimated Sensitivity Risk: \n",
      "\n",
      "   Deployment Scenarios:\n",
      "     Real Time Diagnosis:\n",
      "       Optimal Batch Size: None\n",
      "       Use Case: Emergency diagnosis, single patient processing\n",
      "     Batch Processing:\n",
      "       Optimal Batch Size: None\n",
      "       Use Case: Screening workflows, research processing\n"
     ]
    }
   ],
   "source": [
    "# Run the complete deployment optimization analysis with all 2 implemented analysis functions above\n",
    "def run_deployment_optimization_analysis(baseline_model, timing_results, memory_results, detailed_results):\n",
    "    \"\"\"\n",
    "    Main function to run all deployment optimization analyses.\n",
    "    \"\"\"\n",
    "    print(\"Running Deployment Optimization Analysis...\")\n",
    "\n",
    "    # Analyze mixed precision potential\n",
    "    mixed_precision = analyze_mixed_precision_potential(detailed_results)\n",
    "    mixed_precision_speedup = mixed_precision['estimated_speedup']\n",
    "    \n",
    "    # Analyze batch processing scenarios\n",
    "    batch_results, batch_scenarios = analyze_batch_processing_scenarios(baseline_model, mixed_precision_speedup)\n",
    "\n",
    "    # Visualize batch size analysis for deployment understanding\n",
    "    plot_batch_size_comparison(batch_results)\n",
    "\n",
    "    # Calculate deployment readiness\n",
    "    current_latency = timing_results['single_sample_ms']\n",
    "    current_throughput = timing_results['throughput_samples_per_sec']\n",
    "    \n",
    "    performance_metrics = {\n",
    "        'latency_ms': current_latency,\n",
    "        'throughput_samples_sec': current_throughput\n",
    "    }\n",
    "    \n",
    "    return {\n",
    "        'mixed_precision': mixed_precision,\n",
    "        'batch_scenarios': batch_scenarios\n",
    "    }\n",
    "\n",
    "# Execute deployment analysis\n",
    "deployment_analysis = run_deployment_optimization_analysis(baseline_model, timing_results, memory_results, detailed_results)\n",
    "\n",
    "print(f\"\\nDEPLOYMENT OPTIMIZATION RESULTS:\")\n",
    "mp_details = deployment_analysis['mixed_precision']\n",
    "print(f\"\\n   Mixed Precision (FP16):\")\n",
    "print(f\"     Tensor Core Eligible: {mp_details['mixed_precision_coverage_percent']:.1f}%\")\n",
    "print(f\"     Estimated FLOP improvements: {mp_details['avg_flop_reduction_percent']:.1f}MB\")\n",
    "print(f\"     Estimated Speedup: {mp_details['estimated_speedup']:.1f}x\")\n",
    "print(f\"     Estimated Throughput improvements %: {mp_details['throughput_improvement_percent']:.1f}%\")\n",
    "print(f\"     Estimated Memory Savings: {mp_details['estimated_memory_reduction_mb']:.1f}MB\")\n",
    "print(f\"     Estimated Sensitivity Risk: {mp_details['sensitivity_risk']}\")\n",
    "\n",
    "if 'error' not in deployment_analysis['batch_scenarios']:\n",
    "    scenarios = deployment_analysis['batch_scenarios']\n",
    "    print(f\"\\n   Deployment Scenarios:\")\n",
    "    for scenario, details in scenarios.items():\n",
    "        print(f\"     {scenario.replace('_', ' ').title()}:\")\n",
    "        print(f\"       Optimal Batch Size: {details['optimal_batch_size']}\")\n",
    "        print(f\"       Use Case: {details['use_case']}\")"
   ]
  },
  {
   "attachments": {},
   "cell_type": "markdown",
   "metadata": {},
   "source": [
    "> **_Before you move on...brainstorming time!_**\n",
    "> \n",
    "> Based on your deployment analysis results above, collect your thoughts about hardware deployment opportunities - this will help you in completing your optimization plan at the end of the notebook:\n",
    ">  \n",
    "> 1. **Shared-Resource Constraints**: What is the main limiting factor when deploying the model alongside other applications—memory or compute?\n",
    "> \n",
    "> 2. **Batch processing trade-offs**: How does performance change with batch size? What's the optimal configuration for different deployment scenarios?\n",
    "> \n",
    "> 3. **Mixed precision impact**: What percentage of operations can benefit from FP16? How much speedup can you realistically expect? What are the implementation risks?\n",
    "> \n",
    "> 4. **Production Readiness Assessment**: Which KPI targets can be met with hardware acceleration alone?"
   ]
  },
  {
   "attachments": {},
   "cell_type": "markdown",
   "metadata": {},
   "source": [
    "## **Congratulations!** \n",
    "\n",
    "You have completed the model baseline analysis! This foundational work will guide all subsequent optimization efforts.\n",
    "\n",
    "### **Summary: Key findings**\n",
    "Document your analysis results using this framework:\n",
    "\n",
    "1.  **Overall performance profile**: \n",
    "\n",
    "_<<TODO: Collect key points about the performance baseline>>_\n",
    "\n",
    "_<<TODO: Summarize whether the optimization targets can be met>>_\n",
    "\n",
    "2. **Bottlenecks**: \n",
    "\n",
    "_<<TODO: Identify the main performance limitations by memory/compute/latency - and, don't forget the \"Did you notice?\" point on input interpolation!>>_\n",
    "\n",
    "3. **Architecture optimization**:\n",
    "\n",
    "_<<TODO: Fill in your findings from Analysis Checkpoint 1 including:_<br>\n",
    "_- Top 2 architectural techniques with highest impact potential_<br>\n",
    "_- Implementation difficulty vs expected benefit analysis_<br>\n",
    "_- Estimated parameter reduction and optimization goals projections_<br>\n",
    "_- Other techniques you may consider beyond those listed>>_\n",
    "\n",
    "4. **Hardware deployment optimization**: \n",
    "\n",
    "_<<TODO: Fill in your findings from Analysis Checkpoint 2 including:_<br>\n",
    "_- Mixed precision acceleration potential and implementation plan_<br>\n",
    "_- Optimal batch configurations for different use cases_>>\n",
    "\n",
    "### **Recommended optimization roadmap**\n",
    "\n",
    "Based on the analysis, prioritize the optimization techniques and highlight the estimated combined impact on optimization goals for each phase:\n",
    "\n",
    "**Phase 1 (Quick Wins):**\n",
    "\n",
    "_<<TODO: List >=1 highest priority architectural recommendations>>_\n",
    "\n",
    "_<<TODO: List >=1 highest priority hardware deployment recommendations>>_\n",
    "\n",
    "_<<TODO: Summarize estimated impact of this phase>>_\n",
    "\n",
    "**Phase 2 (Extra Impact):**\n",
    "\n",
    "_<<TODO: List >=1 Additional architectural and hardware deployment recommendations>>_\n",
    "\n",
    "_<<TODO: Summarize estimated impact of this phase>>_\n",
    "\n",
    "---\n",
    "\n",
    "**You are now ready to move to Notebook 2: Architecture Optimization!**"
   ]
  }
 ],
 "metadata": {
  "kernelspec": {
   "display_name": "base",
   "language": "python",
   "name": "python3"
  },
  "language_info": {
   "codemirror_mode": {
    "name": "ipython",
    "version": 3
   },
   "file_extension": ".py",
   "mimetype": "text/x-python",
   "name": "python",
   "nbconvert_exporter": "python",
   "pygments_lexer": "ipython3",
   "version": "3.10.18"
  },
  "vscode": {
   "interpreter": {
    "hash": "d4d1e4263499bec80672ea0156c357c1ee493ec2b1c70f0acce89fc37c4a6abe"
   }
  }
 },
 "nbformat": 4,
 "nbformat_minor": 4
}
